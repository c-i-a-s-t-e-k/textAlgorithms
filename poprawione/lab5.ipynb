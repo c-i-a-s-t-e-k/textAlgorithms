{
 "cells": [
  {
   "attachments": {},
   "cell_type": "markdown",
   "metadata": {},
   "source": [
    "## prosty przykład"
   ]
  },
  {
   "cell_type": "code",
   "execution_count": 1,
   "metadata": {},
   "outputs": [],
   "source": [
    "words1 = [\"aaa\", \"aam\", \"kot\"]\n",
    "example1 = [\n",
    "    \"kaataak\",\n",
    "    \"oaataao\",\n",
    "    \"tamaamt\"\n",
    "]\n",
    "def create_alphabet(words):\n",
    "    alphabet = set()\n",
    "    for word in words:\n",
    "        alphabet.update(word)\n",
    "    return alphabet\n",
    "\n",
    "alphabet = create_alphabet(words1)"
   ]
  },
  {
   "cell_type": "markdown",
   "metadata": {},
   "source": [
    "## budowanie automatu"
   ]
  },
  {
   "cell_type": "code",
   "execution_count": 2,
   "metadata": {},
   "outputs": [
    {
     "data": {
      "text/plain": [
       "([node(0, {'m': 0, 'k': 5, 't': 0, 'a': 1, 'o': 0}, []),\n",
       "  node(1, {'m': 0, 'k': 5, 't': 0, 'a': 2, 'o': 0}, []),\n",
       "  node(2, {'m': 4, 'k': 5, 't': 0, 'a': 3, 'o': 0}, []),\n",
       "  node(3, {'m': 4, 'k': 5, 't': 0, 'a': 3, 'o': 0}, [['aaa']]),\n",
       "  node(4, {'m': 0, 'k': 5, 't': 0, 'a': 1, 'o': 0}, [['aam']]),\n",
       "  node(5, {'m': 0, 'k': 5, 't': 0, 'a': 1, 'o': 6}, []),\n",
       "  node(6, {'m': 0, 'k': 5, 't': 7, 'a': 1, 'o': 0}, []),\n",
       "  node(7, {'m': 0, 'k': 5, 't': 0, 'a': 1, 'o': 0}, [['kot']])],\n",
       " {3, 4, 7})"
      ]
     },
     "execution_count": 2,
     "metadata": {},
     "output_type": "execute_result"
    }
   ],
   "source": [
    "from collections import deque\n",
    "\n",
    "class node:\n",
    "    def __init__(self, index, terminal=\"\"):\n",
    "        self.index = index\n",
    "        \n",
    "        # indeksy wierzchołków grafu połączonego z self\n",
    "        self.nodes = dict()\n",
    "\n",
    "\n",
    "        # w polu ter_str zapisane jest za jakie słowo terminalne odpowiada węzeł\n",
    "        # węzeł nie jest terminalny jeśli ter_str == \"\"\n",
    "        self.terminals = [terminal] if terminal else []\n",
    "    def __repr__(self):\n",
    "        return f\"node({self.index}, {self.nodes}, {self.terminals})\"\n",
    "\n",
    "\n",
    "# zwraca liste tupli (węzeł drezwa Trie, indeks ojca)\n",
    "def build_Trie(Pi, A):\n",
    "    trie = [(node(0), None)]\n",
    "    last_i = 0\n",
    "    for word in Pi:\n",
    "        walker = trie[0][0]\n",
    "        for letter in word:\n",
    "            if letter not in walker.nodes:\n",
    "                last_i += 1\n",
    "                trie.append((node(last_i), walker.index))\n",
    "                walker.nodes[letter] = last_i\n",
    "            walker = trie[walker.nodes[letter]][0]\n",
    "        walker.terminals.append(word)\n",
    "    return trie\n",
    "\n",
    "# zwraca liste węzłów automatu, oraz zbiór indeksów terminalnych\n",
    "def build_SMA(Pi, A):\n",
    "    T = set()\n",
    "    trie = build_Trie(Pi, A)\n",
    "        \n",
    "    sma = [None for _ in trie]\n",
    "    sma[0] = node(0)\n",
    "    if trie[0][0].terminals:\n",
    "        sma[0].terminals.append(trie[0][0].terminals)\n",
    "        T.add(0)\n",
    "    for letter in A:\n",
    "        sma[0].nodes[letter] = 0\n",
    "    if trie[0][0].terminals:\n",
    "        sma[0].terminals = trie[0][0].terminals\n",
    "    \n",
    "    q = deque()\n",
    "    q.append(0)\n",
    "    while q:\n",
    "        v = q.popleft()\n",
    "        for letter, x in trie[v][0].nodes.items():\n",
    "            if x == 0: continue\n",
    "            t = trie[x][1]\n",
    "            q.append(x)\n",
    "            if sma[x] == None:\n",
    "                sma[x] = node(x)\n",
    "            temp = sma[t].nodes[letter]\n",
    "            sma[t].nodes[letter] = x\n",
    "            if trie[x][0].terminals:\n",
    "                T.add(x)\n",
    "                sma[x].terminals.append(trie[x][0].terminals)\n",
    "            if trie[temp][0].terminals:\n",
    "                T.add(x)\n",
    "                sma[x].terminals.append(trie[temp][0].terminals)\n",
    "            for char_al in A:\n",
    "                if char_al in trie[temp][0].nodes:\n",
    "                    sma[x].nodes[char_al] = trie[temp][0].nodes[char_al]\n",
    "                else:\n",
    "                    sma[x].nodes[char_al] = sma[temp].nodes[char_al]\n",
    "    return sma, T\n",
    "\n",
    "\n",
    "build_SMA(words1, alphabet)"
   ]
  },
  {
   "attachments": {},
   "cell_type": "markdown",
   "metadata": {},
   "source": [
    "## szukanie dwówymiarowego wzorca w macierzy znaków"
   ]
  },
  {
   "cell_type": "code",
   "execution_count": 3,
   "metadata": {},
   "outputs": [
    {
     "name": "stdout",
     "output_type": "stream",
     "text": [
      "[0, 4]\n"
     ]
    }
   ],
   "source": [
    "def prefixFunction(P):\n",
    "    res = [0]\n",
    "    k = 0\n",
    "    for j in range(1, len(P)):\n",
    "        while k > 0 and P[k] != P[j]:\n",
    "            k = res[k-1]\n",
    "        if P[k] == P[j]:\n",
    "            k += 1\n",
    "        res.append(k)\n",
    "    return res\n",
    "\n",
    "\n",
    "def _findPatternKMP(T, P, pi):\n",
    "    S = []\n",
    "    m = len(P)\n",
    "    q = 0\n",
    "    for i in range(len(T)):\n",
    "        while q > 0 and T[i] != P[q]:\n",
    "            q = pi[q-1]\n",
    "        if T[i] == P[q]:\n",
    "            q += 1 \n",
    "        if q == m:\n",
    "            q = pi[q-1]\n",
    "            S.append(i - m + 1)\n",
    "    return S\n",
    "\n",
    "# algorytm kmp\n",
    "def findPattern(T, P):\n",
    "    pi = prefixFunction(P)\n",
    "    return _findPatternKMP(T, P, pi)\n",
    "\n",
    "print(findPattern([1,2,3,4,1,2,3], [1,2,3]))\n"
   ]
  },
  {
   "cell_type": "code",
   "execution_count": 4,
   "metadata": {},
   "outputs": [
    {
     "name": "stdout",
     "output_type": "stream",
     "text": [
      "kaataak\n",
      "oaataao\n",
      "tamaamt\n"
     ]
    },
    {
     "data": {
      "text/plain": [
       "[(0, 0)]"
      ]
     },
     "execution_count": 4,
     "metadata": {},
     "output_type": "execute_result"
    }
   ],
   "source": [
    "#Matrix - prostokątna tablica znaków w której szukamy wzorca, A - alfabet, Pi - lista kolum których szukamy: muszą być tej samej długości\n",
    "import numpy as np\n",
    "\n",
    "def find_pattern(Matrix, A, Pi):\n",
    "    # budowanie automatu\n",
    "    SMA, T = build_SMA(Pi, A)\n",
    "    n = len(Matrix[0])\n",
    "    m = len(Matrix)\n",
    "\n",
    "    # odnajdowanine stsnów terminalnych\n",
    "    Terminals = np.zeros((m,n), dtype=np.int64)\n",
    "    for i in range(n):\n",
    "        walker = SMA[0]\n",
    "        for j in range(m):\n",
    "            walker = SMA[walker.nodes[Matrix[j][i]]]\n",
    "            Terminals[j][i] = walker.index\n",
    "    \n",
    "    # wyznaczenie szukanego ciągu terminali - ostatni wiersz Pi_terminals\n",
    "    Pi_terminals = np.zeros((len(Pi[0]), len(Pi)), dtype=np.int64)\n",
    "    for i in range(len(Pi)):\n",
    "        walker = SMA[0]\n",
    "        for j in range(len(Pi[0])):\n",
    "            walker = SMA[walker.nodes[Pi[i][j]]]\n",
    "            Pi_terminals[j][i] = walker.index\n",
    "    # szukanie rozwiązania\n",
    "    res = []\n",
    "    for i, line in enumerate(Terminals):\n",
    "        for j in findPattern(line, Pi_terminals[-1]):\n",
    "            res.append((i-len(Pi[0])+1,j))\n",
    "    return res\n",
    "\n",
    "for line in example1:\n",
    "    print(line)\n",
    "find_pattern(example1, alphabet, words1)\n",
    "\n",
    "example2 = [\n",
    "    [1,1,1],\n",
    "    [2,2,2],\n",
    "    [2,2,1]\n",
    "]\n",
    "pattern2 = [[1,2], [1,2], [1,2]]\n",
    "find_pattern(np.array(example2), create_alphabet(example2), pattern2)"
   ]
  },
  {
   "cell_type": "markdown",
   "metadata": {},
   "source": [
    "# haystack.txt"
   ]
  },
  {
   "cell_type": "code",
   "execution_count": 5,
   "metadata": {},
   "outputs": [
    {
     "data": {
      "text/plain": [
       "array([[ 79, 110, 101, ...,   0,   0,   0],\n",
       "       [111, 102,  32, ...,   0,   0,   0],\n",
       "       [ 98, 101,  32, ...,   0,   0,   0],\n",
       "       ...,\n",
       "       [101, 102, 102, ...,   0,   0,   0],\n",
       "       [ 40,  80,  97, ...,   0,   0,   0],\n",
       "       [ 97, 110, 100, ...,   0,   0,   0]])"
      ]
     },
     "execution_count": 5,
     "metadata": {},
     "output_type": "execute_result"
    }
   ],
   "source": [
    "# z pliku wejsciowego zwraca macierz prostokątną kodów znaków\n",
    "def get_matrix_from_text_file(file_name):\n",
    "    with open(file_name, \"r\") as f:\n",
    "        lines = f.readlines()\n",
    "    n = len(lines)\n",
    "    m = len(max(lines, key=len)) - 1\n",
    "    matrix = np.zeros((n,m), dtype=np.int64)\n",
    "    for i, line in enumerate(lines):\n",
    "        for j, letter in enumerate(line[:-1]):\n",
    "            matrix[i][j] = ord(letter)\n",
    "    return matrix\n",
    "\n",
    "matrix = get_matrix_from_text_file(\"lab5/haystack.txt\")\n",
    "alphabet = set()\n",
    "for line in matrix:\n",
    "    alphabet.update(line)\n",
    "letter_codes = np.array(list(range(ord(\"a\"),ord(\"z\")+1)) + list(range(ord(\"A\"), ord(\"Z\")+1)), dtype=np.int64)\n",
    "alphabet.update(letter_codes)\n",
    "matrix"
   ]
  },
  {
   "cell_type": "markdown",
   "metadata": {},
   "source": [
    "znalezienie tych samych liter na tych smamych pozycjach w sąsiednich wierszacg"
   ]
  },
  {
   "cell_type": "code",
   "execution_count": 6,
   "metadata": {},
   "outputs": [
    {
     "data": {
      "text/plain": [
       "[(32, 1),\n",
       " (38, 1),\n",
       " (42, 1),\n",
       " (45, 1),\n",
       " (51, 1),\n",
       " (55, 1),\n",
       " (69, 1),\n",
       " (11, 2),\n",
       " (32, 2),\n",
       " (42, 2),\n",
       " (54, 2),\n",
       " (78, 2),\n",
       " (15, 3),\n",
       " (28, 3),\n",
       " (38, 3),\n",
       " (51, 3),\n",
       " (65, 3),\n",
       " (2, 4),\n",
       " (17, 4),\n",
       " (25, 4),\n",
       " (72, 4),\n",
       " (73, 4),\n",
       " (2, 5),\n",
       " (24, 5),\n",
       " (25, 5),\n",
       " (38, 5),\n",
       " (2, 6),\n",
       " (17, 6),\n",
       " (45, 6),\n",
       " (53, 6),\n",
       " (70, 6),\n",
       " (2, 7),\n",
       " (18, 7),\n",
       " (21, 7),\n",
       " (77, 7),\n",
       " (78, 7),\n",
       " (81, 7),\n",
       " (1, 8),\n",
       " (2, 8),\n",
       " (2, 9),\n",
       " (23, 9),\n",
       " (53, 9),\n",
       " (2, 10),\n",
       " (14, 11),\n",
       " (21, 11),\n",
       " (34, 11),\n",
       " (36, 11),\n",
       " (73, 11),\n",
       " (80, 11),\n",
       " (34, 12),\n",
       " (41, 12),\n",
       " (55, 12),\n",
       " (57, 12),\n",
       " (16, 13),\n",
       " (53, 13),\n",
       " (54, 13),\n",
       " (74, 13),\n",
       " (8, 14),\n",
       " (57, 14),\n",
       " (74, 14),\n",
       " (78, 14),\n",
       " (5, 15),\n",
       " (18, 15),\n",
       " (50, 15),\n",
       " (65, 15),\n",
       " (82, 15),\n",
       " (70, 16),\n",
       " (31, 17),\n",
       " (28, 18),\n",
       " (29, 18),\n",
       " (56, 18),\n",
       " (68, 18),\n",
       " (16, 19),\n",
       " (36, 19),\n",
       " (42, 19),\n",
       " (38, 20),\n",
       " (9, 22),\n",
       " (77, 22),\n",
       " (65, 23),\n",
       " (70, 23),\n",
       " (78, 23),\n",
       " (5, 24),\n",
       " (29, 24),\n",
       " (73, 24),\n",
       " (47, 25),\n",
       " (60, 25),\n",
       " (72, 25),\n",
       " (80, 25),\n",
       " (44, 26),\n",
       " (34, 27),\n",
       " (41, 27),\n",
       " (11, 28),\n",
       " (19, 28),\n",
       " (74, 28),\n",
       " (8, 30),\n",
       " (65, 30),\n",
       " (68, 30),\n",
       " (4, 31),\n",
       " (61, 31),\n",
       " (28, 32),\n",
       " (32, 32),\n",
       " (52, 32),\n",
       " (57, 32),\n",
       " (52, 33),\n",
       " (20, 34),\n",
       " (45, 34),\n",
       " (52, 34),\n",
       " (55, 34),\n",
       " (60, 34),\n",
       " (33, 35),\n",
       " (38, 35),\n",
       " (46, 35),\n",
       " (66, 36),\n",
       " (68, 36),\n",
       " (70, 36),\n",
       " (43, 37),\n",
       " (58, 37),\n",
       " (59, 37),\n",
       " (4, 38),\n",
       " (9, 38),\n",
       " (20, 38),\n",
       " (34, 38),\n",
       " (48, 38),\n",
       " (68, 38),\n",
       " (80, 38),\n",
       " (7, 39),\n",
       " (8, 39),\n",
       " (30, 39),\n",
       " (72, 39),\n",
       " (7, 40),\n",
       " (63, 40),\n",
       " (35, 41),\n",
       " (56, 41),\n",
       " (68, 41),\n",
       " (71, 42),\n",
       " (83, 42),\n",
       " (47, 43),\n",
       " (72, 43),\n",
       " (78, 43),\n",
       " (16, 44),\n",
       " (30, 44),\n",
       " (47, 45),\n",
       " (11, 46),\n",
       " (29, 46),\n",
       " (34, 46),\n",
       " (42, 46),\n",
       " (54, 46),\n",
       " (59, 46),\n",
       " (61, 46),\n",
       " (69, 47),\n",
       " (83, 48),\n",
       " (38, 49),\n",
       " (43, 49),\n",
       " (54, 49),\n",
       " (5, 50),\n",
       " (59, 50),\n",
       " (71, 50),\n",
       " (7, 51),\n",
       " (32, 51),\n",
       " (48, 51),\n",
       " (59, 51),\n",
       " (69, 52),\n",
       " (29, 53),\n",
       " (47, 53),\n",
       " (82, 53),\n",
       " (23, 54),\n",
       " (53, 54),\n",
       " (4, 55),\n",
       " (15, 55),\n",
       " (20, 55),\n",
       " (21, 55),\n",
       " (56, 55),\n",
       " (58, 55),\n",
       " (59, 55),\n",
       " (14, 56),\n",
       " (20, 56),\n",
       " (45, 56),\n",
       " (21, 57),\n",
       " (30, 57),\n",
       " (31, 57),\n",
       " (62, 57),\n",
       " (4, 58),\n",
       " (42, 58),\n",
       " (68, 58),\n",
       " (10, 59),\n",
       " (31, 59),\n",
       " (31, 60),\n",
       " (73, 60),\n",
       " (79, 60),\n",
       " (6, 61),\n",
       " (10, 61),\n",
       " (16, 61),\n",
       " (35, 61),\n",
       " (22, 62),\n",
       " (47, 62),\n",
       " (53, 62),\n",
       " (78, 62),\n",
       " (22, 63),\n",
       " (1, 64),\n",
       " (4, 64),\n",
       " (7, 64),\n",
       " (41, 64),\n",
       " (11, 65),\n",
       " (8, 66),\n",
       " (25, 66),\n",
       " (29, 66),\n",
       " (79, 66),\n",
       " (6, 67),\n",
       " (34, 67),\n",
       " (64, 67),\n",
       " (29, 68),\n",
       " (29, 69),\n",
       " (29, 70),\n",
       " (53, 70),\n",
       " (66, 70),\n",
       " (22, 71),\n",
       " (29, 71),\n",
       " (32, 71),\n",
       " (29, 72),\n",
       " (68, 72),\n",
       " (29, 73),\n",
       " (67, 73),\n",
       " (29, 74),\n",
       " (32, 74),\n",
       " (42, 74),\n",
       " (60, 74),\n",
       " (77, 75),\n",
       " (5, 76),\n",
       " (9, 76),\n",
       " (60, 76),\n",
       " (5, 78),\n",
       " (42, 78),\n",
       " (59, 79),\n",
       " (1, 83),\n",
       " (1, 84)]"
      ]
     },
     "execution_count": 6,
     "metadata": {},
     "output_type": "execute_result"
    }
   ],
   "source": [
    "\n",
    "patterns2d = np.zeros((len(letter_codes),2), dtype=np.int64)\n",
    "for i, letter_code in enumerate(letter_codes):\n",
    "    patterns2d[i][0] = letter_code\n",
    "    patterns2d[i][1] = letter_code\n",
    "patterns2d\n",
    "\n",
    "SMA, T = build_SMA(patterns2d, alphabet)\n",
    "# budowanie automatu\n",
    "n = len(matrix[0])\n",
    "m = len(matrix)\n",
    "\n",
    "# szukanie stanów terminalnych\n",
    "answer = []\n",
    "for i in range(n):\n",
    "    walker = SMA[0]\n",
    "    for j in range(m):\n",
    "        walker = SMA[walker.nodes[matrix[j][i]]]\n",
    "        if walker.index in T:\n",
    "            answer.append((j,i+1))\n",
    "# (line, number of character)\n",
    "answer"
   ]
  },
  {
   "cell_type": "code",
   "execution_count": 7,
   "metadata": {},
   "outputs": [
    {
     "name": "stdout",
     "output_type": "stream",
     "text": [
      "[]\n",
      "[(37, 0)]\n"
     ]
    }
   ],
   "source": [
    "pattern1 = np.array(\n",
    "    [\n",
    "        [ord(\"t\"), ord(\"t\")],\n",
    "        [ord(\"h\"), ord(\"h\")]\n",
    "    ], dtype=np.int64\n",
    ")\n",
    "\n",
    "pattern2 = np.array(\n",
    "    [\n",
    "        [ord(\"t\"), ord(\"t\")],\n",
    "        [ord(\" \"), ord(\" \")],\n",
    "        [ord(\"h\"), ord(\"h\")]\n",
    "    ], dtype=np.int64\n",
    ")\n",
    "\n",
    "print(find_pattern(matrix, alphabet, pattern1))\n",
    "print(find_pattern(matrix, alphabet, pattern2))"
   ]
  },
  {
   "cell_type": "markdown",
   "metadata": {},
   "source": [
    "haystack.png"
   ]
  },
  {
   "cell_type": "code",
   "execution_count": 33,
   "metadata": {},
   "outputs": [
    {
     "name": "stdout",
     "output_type": "stream",
     "text": [
      "488\n"
     ]
    }
   ],
   "source": [
    "from PIL import Image\n",
    "import numpy as np\n",
    "\n",
    "def get_matrix_from_png_file(file_name):\n",
    "    matrix = np.array(Image.open(file_name))\n",
    "    shape = matrix.shape[:2]\n",
    "    table = [[None for _ in range(shape[1])] for _ in range(shape[0])]\n",
    "    for i, line in enumerate(matrix):\n",
    "        for j, pixel in enumerate(line):\n",
    "            table[i][j] = tuple(pixel)\n",
    "\n",
    "    return table\n",
    "\n",
    "def transpose(matrix):\n",
    "    n = len(matrix)\n",
    "    m = len(matrix[0])\n",
    "\n",
    "    transposed = [[None for _ in range(n)] for _ in range(m)]\n",
    "\n",
    "    for i, line in enumerate(matrix):\n",
    "        for j, value in enumerate(line):\n",
    "            transposed[j][i] = value\n",
    "    return transposed\n",
    "\n",
    "matrix = get_matrix_from_png_file(\"lab5/haystack.png\")\n",
    "alphabet = create_alphabet(matrix)\n",
    "\n",
    "# plik png przedstawiający litere powinien się znaleść w folderze letters\n",
    "def number_of_found_letters(letter, alphabet, matrix):\n",
    "    \n",
    "    letter_matrix = get_matrix_from_png_file(f\"lab5/letters/{letter}.png\")\n",
    "    letter_pattern = transpose(letter_matrix)\n",
    "\n",
    "    letter_found = find_pattern(matrix, alphabet, letter_pattern)\n",
    "    return len(letter_found)"
   ]
  },
  {
   "cell_type": "code",
   "execution_count": 34,
   "metadata": {},
   "outputs": [
    {
     "name": "stdout",
     "output_type": "stream",
     "text": [
      "488\n"
     ]
    }
   ],
   "source": [
    "print(number_of_found_letters(\"e\", alphabet, matrix))"
   ]
  },
  {
   "cell_type": "code",
   "execution_count": 35,
   "metadata": {},
   "outputs": [
    {
     "name": "stdout",
     "output_type": "stream",
     "text": [
      "58\n"
     ]
    }
   ],
   "source": [
    "print(number_of_found_letters(\"t\", alphabet, matrix))"
   ]
  },
  {
   "cell_type": "code",
   "execution_count": 36,
   "metadata": {},
   "outputs": [
    {
     "name": "stdout",
     "output_type": "stream",
     "text": [
      "173\n"
     ]
    }
   ],
   "source": [
    "print(number_of_found_letters(\"s\", alphabet, matrix))"
   ]
  },
  {
   "cell_type": "code",
   "execution_count": 37,
   "metadata": {},
   "outputs": [
    {
     "name": "stdout",
     "output_type": "stream",
     "text": [
      "397\n"
     ]
    }
   ],
   "source": [
    "print(number_of_found_letters(\"a\", alphabet, matrix))"
   ]
  },
  {
   "cell_type": "code",
   "execution_count": 38,
   "metadata": {},
   "outputs": [
    {
     "name": "stdout",
     "output_type": "stream",
     "text": [
      "5\n"
     ]
    }
   ],
   "source": [
    "print(number_of_found_letters(\"pattern\", alphabet, matrix))"
   ]
  },
  {
   "cell_type": "markdown",
   "metadata": {},
   "source": [
    "# mierzenie czasu"
   ]
  },
  {
   "cell_type": "code",
   "execution_count": 53,
   "metadata": {},
   "outputs": [],
   "source": [
    "from time import time\n",
    "\n",
    "# zwraca tuple (wymiary Matrix, wymiary Pi, czas budowania automatu, czas szukania wzorca)\n",
    "def find_pattern_times(Matrix, A, Pi):\n",
    "    # budowanie automatu\n",
    "    start = time()\n",
    "    SMA, T = build_SMA(Pi, A)\n",
    "    end = time()\n",
    "    bulding_SMA_time = end - start\n",
    "\n",
    "    n = len(Matrix[0])\n",
    "    m = len(Matrix)\n",
    "\n",
    "    start = time()\n",
    "    # odnajdowanine stsnów terminalnych\n",
    "    Terminals = np.zeros((m,n), dtype=np.int64)\n",
    "    for i in range(n):\n",
    "        walker = SMA[0]\n",
    "        for j in range(m):\n",
    "            walker = SMA[walker.nodes[Matrix[j][i]]]\n",
    "            Terminals[j][i] = walker.index\n",
    "    \n",
    "    # wyznaczenie szukanego ciągu terminali - ostatni wiersz Pi_terminals\n",
    "    Pi_terminals = np.zeros((len(Pi[0]), len(Pi)), dtype=np.int64)\n",
    "    for i in range(len(Pi)):\n",
    "        walker = SMA[0]\n",
    "        for j in range(len(Pi[0])):\n",
    "            walker = SMA[walker.nodes[Pi[i][j]]]\n",
    "            Pi_terminals[j][i] = walker.index\n",
    "    # szukanie rozwiązania\n",
    "    res = []\n",
    "    for i, line in enumerate(Terminals):\n",
    "        for j in findPattern(line, Pi_terminals[-1]):\n",
    "            res.append((i-len(Pi[0])+1,j))\n",
    "    end = time()\n",
    "    finding_pattern_time = end - start\n",
    "    return f\"{n}x{m}\", f\"{len(Pi[0])}x{len(Pi)}\", bulding_SMA_time, finding_pattern_time\n",
    "\n",
    "def get_row_input_of_found_letters(letter, alphabet, matrix):\n",
    "    letter_matrix = get_matrix_from_png_file(f\"lab5/letters/{letter}.png\")\n",
    "    letter_pattern = transpose(letter_matrix)\n",
    "\n",
    "    return list(find_pattern_times(matrix, alphabet, letter_pattern))\n",
    "    "
   ]
  },
  {
   "cell_type": "code",
   "execution_count": 62,
   "metadata": {},
   "outputs": [
    {
     "name": "stdout",
     "output_type": "stream",
     "text": [
      "+---------------------------+----------------+----------------------------+--------------------------+\n",
      "| rozmiar pliku wejściowego | rozmiar wzorca | czas budowania automatu[s] | czas szukania wzorca [s] |\n",
      "+---------------------------+----------------+----------------------------+--------------------------+\n",
      "|          860x1900         |      8x7       |    0.007540464401245117    |    2.398759365081787     |\n",
      "|          860x1900         |     19x107     |    0.06301641464233398     |    3.050617218017578     |\n",
      "|          860x1900         |    842x388     |     30.878023862838745     |    3.8068411350250244    |\n",
      "|          860x1900         |    1451x526    |     88.54110074043274      |    264.8278646469116     |\n",
      "+---------------------------+----------------+----------------------------+--------------------------+\n"
     ]
    }
   ],
   "source": [
    "from prettytable import PrettyTable\n",
    "\n",
    "times = PrettyTable()\n",
    "\n",
    "times.field_names = [\"rozmiar pliku wejściowego\", \"rozmiar wzorca\", \"czas budowania automatu[s]\", \"czas szukania wzorca [s]\"]\n",
    "times.add_row(get_row_input_of_found_letters(\"a\", alphabet, matrix))\n",
    "times.add_row(get_row_input_of_found_letters(\"pattern\", alphabet, matrix))\n",
    "times.add_row(get_row_input_of_found_letters(\"medium_pattern\", alphabet, matrix))\n",
    "times.add_row(get_row_input_of_found_letters(\"big_pattern\", alphabet, matrix))\n",
    "print(times)"
   ]
  },
  {
   "cell_type": "code",
   "execution_count": 61,
   "metadata": {},
   "outputs": [
    {
     "name": "stdout",
     "output_type": "stream",
     "text": [
      "+---------------------------+----------------+----------------------------+--------------------------+\n",
      "| rozmiar pliku wejściowego | rozmiar wzorca | czas budowania automatu[s] | czas szukania wzorca [s] |\n",
      "+---------------------------+----------------+----------------------------+--------------------------+\n",
      "|          860x1900         |     19x107     |    0.18419694900512695     |    15.63606882095337     |\n",
      "|          860x950          |     19x107     |     0.4484097957611084     |    1.3525171279907227    |\n",
      "|          860x475          |     19x107     |    0.05156302452087402     |    0.6641104221343994    |\n",
      "|          860x237          |     19x107     |    0.04889655113220215     |    0.312591552734375     |\n",
      "+---------------------------+----------------+----------------------------+--------------------------+\n"
     ]
    }
   ],
   "source": [
    "n = len(matrix)\n",
    "times2 = PrettyTable()\n",
    "\n",
    "times2.field_names = [\"rozmiar pliku wejściowego\", \"rozmiar wzorca\", \"czas budowania automatu[s]\", \"czas szukania wzorca [s]\"]\n",
    "times2.add_row(get_row_input_of_found_letters(\"pattern\", alphabet, matrix))\n",
    "times2.add_row(get_row_input_of_found_letters(\"pattern\", alphabet, matrix[:n//2]))\n",
    "times2.add_row(get_row_input_of_found_letters(\"pattern\", alphabet, matrix[:n//4]))\n",
    "\n",
    "times2.add_row(get_row_input_of_found_letters(\"pattern\", alphabet, matrix[:n//8]))\n",
    "\n",
    "print(times2)"
   ]
  }
 ],
 "metadata": {
  "kernelspec": {
   "display_name": "Python 3",
   "language": "python",
   "name": "python3"
  },
  "language_info": {
   "codemirror_mode": {
    "name": "ipython",
    "version": 3
   },
   "file_extension": ".py",
   "mimetype": "text/x-python",
   "name": "python",
   "nbconvert_exporter": "python",
   "pygments_lexer": "ipython3",
   "version": "3.11.3"
  },
  "orig_nbformat": 4
 },
 "nbformat": 4,
 "nbformat_minor": 2
}
