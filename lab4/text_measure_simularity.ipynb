{
 "cells": [
  {
   "cell_type": "markdown",
   "metadata": {},
   "source": [
    "## metryk w przestrzeni napisów"
   ]
  },
  {
   "cell_type": "code",
   "execution_count": 1,
   "metadata": {},
   "outputs": [],
   "source": [
    "#Kod przekopiowany z ćwiczeń\n",
    "\n",
    "import numpy as np\n",
    "from sortedcontainers import SortedSet\n",
    "\n",
    "def preprocess(text: str) -> str:\n",
    "    text = text.lower()\n",
    "    marks = ['.', ';', ':']\n",
    "    for mark in marks:\n",
    "        text = text.translate({ord(mark):None})\n",
    "    # Your code here:\n",
    "    # Convert the text to lowercase.\n",
    "    # Remove all punctuation marks;\n",
    "    return text\n",
    "\n",
    "def text_to_vec(docs: list[str]) -> list[list[int]]:\n",
    "    # Your code here:\n",
    "    # Convert documents to numerical vectors.\n",
    "    # Preprocess documents with the preprocess() function.\n",
    "    # Represent documents as vectors of word frequencies, \n",
    "    # you will need to extract a vocabulary from all the documents.\n",
    "    alphabet = SortedSet()\n",
    "    sentences = []\n",
    "\n",
    "    for doc in docs:\n",
    "        sentences.append([])\n",
    "        sentences[-1] = preprocess(doc).split()\n",
    "        alphabet.update(sentences[-1])\n",
    "    \n",
    "    freq_vecs = []    \n",
    "    n = len(alphabet)\n",
    "    \n",
    "    for sentence in sentences:\n",
    "        freq_vecs.append([0] * n)\n",
    "        for word in sentence:\n",
    "            freq_vecs[-1][alphabet.index(word)] += 1\n",
    "\n",
    "    return freq_vecs\n",
    "\n",
    "def cosine_similarity(text_a: str, text_b: str) -> float:\n",
    "    cosine_similarity = 0\n",
    "    vec_a, vec_b = text_to_vec([text_a, text_b])\n",
    "    vec_a, vec_b = np.array(vec_a), np.array(vec_b)\n",
    "    \n",
    "    cosine_similarity = vec_a.dot(vec_b)/(np.linalg.norm(vec_a)*np.linalg.norm(vec_b))\n",
    "    return cosine_similarity\n",
    "\n",
    "def dice(text_a: str, text_b: str) -> float:\n",
    "    dice = 0\n",
    "    set_A = set(preprocess(text_a).split())\n",
    "    set_B = set(preprocess(text_b).split())\n",
    "    dice = 2*len(set_A.intersection(set_B)) / (len(set_A) + len(set_B))\n",
    "    return dice\n",
    "\n",
    "def euclidean_distance(text_a: str, text_b: str) -> float:\n",
    "    dist = 0\n",
    "    vec_a, vec_b = text_to_vec([text_a, text_b])\n",
    "    vec_a, vec_b = np.array(vec_a), np.array(vec_b)\n",
    "\n",
    "    dist = np.linalg.norm(vec_a - vec_b)\n",
    "    \n",
    "    return dist"
   ]
  },
  {
   "cell_type": "code",
   "execution_count": 3,
   "metadata": {},
   "outputs": [
    {
     "name": "stderr",
     "output_type": "stream",
     "text": [
      "Matplotlib is building the font cache; this may take a moment.\n",
      "/home/ciastek/.local/lib/python3.10/site-packages/sklearn/cluster/_kmeans.py:870: FutureWarning: The default value of `n_init` will change from 10 to 'auto' in 1.4. Set the value of `n_init` explicitly to suppress the warning\n",
      "  warnings.warn(\n"
     ]
    },
    {
     "name": "stdout",
     "output_type": "stream",
     "text": [
      "[[1. 2.]\n",
      " [4. 2.]]\n"
     ]
    },
    {
     "data": {
      "image/png": "[encoded data removed]",
      "text/plain": [
       "<Figure size 640x480 with 1 Axes>"
      ]
     },
     "metadata": {},
     "output_type": "display_data"
    }
   ],
   "source": [
    "from sklearn.cluster import KMeans\n",
    "import numpy as np\n",
    "import matplotlib.pyplot as plt\n",
    "\n",
    "\n",
    "# Załadowanie danych\n",
    "X = np.array([[1, 2], [1, 4], [1, 0],\n",
    "              [4, 2], [4, 4], [4, 0]])\n",
    "\n",
    "# Utworzenie obiektu k-means z 2 klastrami\n",
    "kmeans = KMeans(n_clusters=2, random_state=0)\n",
    "\n",
    "# Dopasowanie modelu do danych\n",
    "kmeans.fit(X)\n",
    "\n",
    "# Pobranie środków masy klastrów\n",
    "centroids = kmeans.cluster_centers_\n",
    "\n",
    "# Wyświetlenie środków masy klastrów\n",
    "print(centroids)\n",
    "\n",
    "# Przypisanie klastrów do punktów\n",
    "labels = kmeans.predict(X)\n",
    "\n",
    "# Wizualizacja klastrów\n",
    "plt.scatter(X[:, 0], X[:, 1], c=labels)\n",
    "plt.scatter(centroids[:, 0], centroids[:, 1], marker='*', s=200, c='#050505')\n",
    "plt.show()"
   ]
  },
  {
   "cell_type": "markdown",
   "metadata": {},
   "source": [
    " ## indeks Daviesa-Bouldina"
   ]
  },
  {
   "cell_type": "code",
   "execution_count": 4,
   "metadata": {},
   "outputs": [],
   "source": [
    "def dbi(data, cluster_classification, cluster_center, distance_func):\n",
    "    #ilość klastrów\n",
    "    k = len(cluster_center)\n",
    "    \n",
    "    #średnia odległość punktów w klastrze od ośrodka ciężkości odpowiadającego klastra\n",
    "    sigma = np.zeros(k)\n",
    "    for i in range(k):\n",
    "        sigma[i] = np.mean([distance_func(data[j], cluster_center[i]) for j in np.where(cluster_classification == i)[0]])\n",
    "\n",
    "    # obliczanie odległości od siebie klastrów\n",
    "    R = np.zeros((k, k))\n",
    "    for i in range(k):\n",
    "        for j in range(k):\n",
    "            if i != j:\n",
    "                R[i][j] = (sigma[i] + sigma[j]) / distance_func(cluster_center[i], cluster_center[j])\n",
    "\n",
    "    # obliczanie indewksu dbi\n",
    "    dbi = 0\n",
    "    for i in range(k):\n",
    "        dbi += np.max([R[i][j] for j in range(k) if j != i])\n",
    "    \n",
    "    return dbi / k"
   ]
  }
 ],
 "metadata": {
  "kernelspec": {
   "display_name": "Python 3",
   "language": "python",
   "name": "python3"
  },
  "language_info": {
   "codemirror_mode": {
    "name": "ipython",
    "version": 3
   },
   "file_extension": ".py",
   "mimetype": "text/x-python",
   "name": "python",
   "nbconvert_exporter": "python",
   "pygments_lexer": "ipython3",
   "version": "3.10.6"
  },
  "orig_nbformat": 4
 },
 "nbformat": 4,
 "nbformat_minor": 2
}
