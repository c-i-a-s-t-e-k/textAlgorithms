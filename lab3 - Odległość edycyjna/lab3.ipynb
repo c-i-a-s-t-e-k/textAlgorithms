{
 "cells": [
  {
   "attachments": {},
   "cell_type": "markdown",
   "metadata": {},
   "source": [
    "# Odległość edycyjna"
   ]
  },
  {
   "cell_type": "code",
   "execution_count": 5,
   "metadata": {},
   "outputs": [],
   "source": [
    "# miacierz odlgłości edycyjnej - tablica w której dynamicznie zapisujemy \n",
    "# odległość edycyjną między prefiksami słów \"s\" i \"t\"\n",
    "def levenshtein_distance_matrix(s, t):\n",
    "    m, n = len(s), len(t)\n",
    "    # inicjalizacja macierzy\n",
    "    d = [[0] * (n + 1) for i in range(m + 1)]\n",
    "    for i in range(m + 1):\n",
    "        d[i][0] = i\n",
    "    for j in range(n + 1):\n",
    "        d[0][j] = j\n",
    "    # wypełnienie macierzy\n",
    "    for j in range(1, n + 1):\n",
    "        for i in range(1, m + 1):\n",
    "            if s[i - 1] == t[j - 1]:\n",
    "                d[i][j] = d[i - 1][j - 1]\n",
    "            else:\n",
    "                d[i][j] = min(d[i - 1][j], d[i][j - 1], d[i - 1][j - 1]) + 1\n",
    "    return d\n",
    "\n",
    "# odległość edycyjna między \"s\" i \"t\"\n",
    "def levenshtein_distance(s, t):\n",
    "    m, n = len(s), len(t)\n",
    "    return levenshtein_distance_matrix(s,t)[m][n]\n",
    "\n"
   ]
  },
  {
   "attachments": {},
   "cell_type": "markdown",
   "metadata": {},
   "source": [
    "## Wizualizacja"
   ]
  },
  {
   "cell_type": "code",
   "execution_count": 52,
   "metadata": {},
   "outputs": [],
   "source": [
    "from enum import Enum\n",
    "\n",
    "# 4 typy rodzaju edycji tekstu (z czego jeden trywialny: NONE)\n",
    "class EditType(Enum):\n",
    "    NONE = 0\n",
    "    INSERT = 1\n",
    "    DELETE = 2\n",
    "    REPLACE = 3\n",
    "\n",
    "# wszystkie zmiany prowadzące ze słowa \"s\" na \"t\"\n",
    "def transwer_word_edits(s,t):\n",
    "    d = levenshtein_distance_matrix(s,t)\n",
    "    i, j = len(s), len(t) \n",
    "    edits = []\n",
    "    while i > 0 or j > 0:\n",
    "        if i > 0 and j > 0 and d[i - 1][j - 1] == d[i][j] and s[i - 1] == t[j - 1]:\n",
    "            i, j = i - 1, j - 1\n",
    "            edits.append((EditType.NONE, s[i]))\n",
    "        elif i > 0 and d[i - 1][j] == d[i][j] - 1:\n",
    "            i -= 1\n",
    "            edits.append((EditType.DELETE, s[i]))\n",
    "        elif j > 0 and d[i][j - 1] == d[i][j] - 1:\n",
    "            j -= 1\n",
    "            edits.append((EditType.INSERT, t[j]))\n",
    "        elif i > 0 and j > 0 and d[i - 1][j - 1] == d[i][j] - 1:\n",
    "            i, j = i - 1, j - 1\n",
    "            edits.append((EditType.REPLACE, (s[i], t[j])))\n",
    "    return edits[::-1]\n",
    "\n",
    "# wizualizacja od lewej do prawej \n",
    "def transwer_word_wizualation(s, t):\n",
    "    edits = transwer_word_edits(s,t)\n",
    "    curr_s = s[:]+\" \"\n",
    "    i=0\n",
    "    for edType, edLett in edits:\n",
    "        if edType == EditType.NONE:\n",
    "            pass            \n",
    "        elif edType == EditType.DELETE:\n",
    "            print(f\"{s} --(Delete letter '{edLett}' at index {i})--> {s[:i] + s[i+1:]}\")\n",
    "            s = s[:i] + s[i+1:]\n",
    "            i -= 1\n",
    "        elif edType == EditType.INSERT:\n",
    "            print(f\"{s} --(Inserted letter '{edLett}' at index {i})--> {s[:i] + edLett + s[i:]}\")\n",
    "            s = s[:i] + edLett + s[i:]\n",
    "        elif edType == EditType.REPLACE:\n",
    "            print(f\"{s} --('{edLett[0]}' Replace with '{edLett[1]}' at index {i})--> {s[:i] + edLett[1] + s[i+1:]}\")\n",
    "            s = s[:i] + edLett[1] + s[i+1:]\n",
    "        i += 1\n"
   ]
  },
  {
   "attachments": {},
   "cell_type": "markdown",
   "metadata": {},
   "source": [
    "przykładowe wywołania"
   ]
  },
  {
   "cell_type": "code",
   "execution_count": 53,
   "metadata": {},
   "outputs": [
    {
     "name": "stdout",
     "output_type": "stream",
     "text": [
      "los --> kloc in 2 steps\n",
      "los --(Inserted letter 'k' at index 0)--> klos\n",
      "klos --('s' Replace with 'c' at index 3)--> kloc\n",
      "\n",
      "Łódź --> Lodz in 3 steps\n",
      "Łódź --('Ł' Replace with 'L' at index 0)--> Lódź\n",
      "Lódź --('ó' Replace with 'o' at index 1)--> Lodź\n",
      "Lodź --('ź' Replace with 'z' at index 3)--> Lodz\n",
      "\n",
      "kwintesencja --> quintessence in 5 steps\n",
      "kwintesencja --('k' Replace with 'q' at index 0)--> qwintesencja\n",
      "qwintesencja --('w' Replace with 'u' at index 1)--> quintesencja\n",
      "quintesencja --(Inserted letter 's' at index 6)--> quintessencja\n",
      "quintessencja --('j' Replace with 'e' at index 11)--> quintessencea\n",
      "quintessencea --(Delete letter 'a' at index 12)--> quintessence\n",
      "\n",
      "ATGAATCTTACCGCCTCG --> ATGAGGCTCTGGCCCCTG in 7 steps\n",
      "ATGAATCTTACCGCCTCG --('A' Replace with 'G' at index 4)--> ATGAGTCTTACCGCCTCG\n",
      "ATGAGTCTTACCGCCTCG --('T' Replace with 'G' at index 5)--> ATGAGGCTTACCGCCTCG\n",
      "ATGAGGCTTACCGCCTCG --(Inserted letter 'C' at index 8)--> ATGAGGCTCTACCGCCTCG\n",
      "ATGAGGCTCTACCGCCTCG --('A' Replace with 'G' at index 10)--> ATGAGGCTCTGCCGCCTCG\n",
      "ATGAGGCTCTGCCGCCTCG --(Inserted letter 'G' at index 11)--> ATGAGGCTCTGGCCGCCTCG\n",
      "ATGAGGCTCTGGCCGCCTCG --(Delete letter 'G' at index 14)--> ATGAGGCTCTGGCCCCTCG\n",
      "ATGAGGCTCTGGCCCCTCG --(Delete letter 'C' at index 17)--> ATGAGGCTCTGGCCCCTG\n",
      "\n"
     ]
    }
   ],
   "source": [
    "s1,s2 = \"los\", \"kloc\"\n",
    "print(f\"{s1} --> {s2} in {levenshtein_distance(s1, s2)} steps\")\n",
    "transwer_word_wizualation(s1, s2)\n",
    "print()\n",
    "\n",
    "s1,s2 = \"Łódź\", \"Lodz\"\n",
    "print(f\"{s1} --> {s2} in {levenshtein_distance(s1, s2)} steps\")\n",
    "transwer_word_wizualation(s1, s2)\n",
    "print()\n",
    "\n",
    "s1,s2 = \"kwintesencja\", \"quintessence\"\n",
    "print(f\"{s1} --> {s2} in {levenshtein_distance(s1, s2)} steps\")\n",
    "transwer_word_wizualation(s1, s2)\n",
    "print()\n",
    "\n",
    "s1,s2 = \"ATGAATCTTACCGCCTCG\", \"ATGAGGCTCTGGCCCCTG\"\n",
    "print(f\"{s1} --> {s2} in {levenshtein_distance(s1, s2)} steps\")\n",
    "transwer_word_wizualation(s1, s2)\n",
    "print()\n"
   ]
  },
  {
   "cell_type": "markdown",
   "metadata": {},
   "source": []
  }
 ],
 "metadata": {
  "kernelspec": {
   "display_name": "Python 3",
   "language": "python",
   "name": "python3"
  },
  "language_info": {
   "codemirror_mode": {
    "name": "ipython",
    "version": 3
   },
   "file_extension": ".py",
   "mimetype": "text/x-python",
   "name": "python",
   "nbconvert_exporter": "python",
   "pygments_lexer": "ipython3",
   "version": "3.10.6"
  },
  "orig_nbformat": 4
 },
 "nbformat": 4,
 "nbformat_minor": 2
}
