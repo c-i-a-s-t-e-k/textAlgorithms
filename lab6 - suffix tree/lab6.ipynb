{
 "cells": [
  {
   "cell_type": "markdown",
   "metadata": {},
   "source": [
    "# Dane wejściowe    "
   ]
  },
  {
   "cell_type": "code",
   "execution_count": 55,
   "metadata": {},
   "outputs": [],
   "source": [
    "data = [\n",
    "    \"bbb$\",\n",
    "    \"aabbabd$\",\n",
    "    \"ababcd$\",\n",
    "    \"abaababaabaabaabab$\",\n",
    "    \"Jest piękna pogoda na spacer po parku. Słońce świeci, ptaki śpiewają, a ludzie się uśmiechają. Wspan$\",\n",
    "]\n",
    "with open(\"lab6 - prefix trie/1997_714_head.txt\", \"r\") as file:\n",
    "    data.append(file.read() + \"$\")"
   ]
  },
  {
   "cell_type": "markdown",
   "metadata": {},
   "source": [
    "# Trie zawierające wszystkie sufixy"
   ]
  },
  {
   "cell_type": "code",
   "execution_count": 56,
   "metadata": {},
   "outputs": [],
   "source": [
    "class SufixesTrie:\n",
    "    def __add_string(self, string: str) -> None:\n",
    "        walker = self.root\n",
    "        for i, letter in enumerate(string):\n",
    "            if not walker.is_conected(letter):\n",
    "                walker.add_child(letter)\n",
    "                for _letter in string[i+1:]:\n",
    "                    walker.add_child(_letter)\n",
    "                    walker = walker.get_child(_letter)\n",
    "                break\n",
    "            walker = walker.get_child(letter)\n",
    "\n",
    "    def __init__(self, data: str) -> None:\n",
    "        self.root = SufixesTrieNode()\n",
    "        tmp_str = data\n",
    "        while tmp_str[1:]:\n",
    "            self.__add_string(tmp_str)\n",
    "            tmp_str = tmp_str[1:]\n",
    "        self.__add_string(tmp_str)\n",
    "\n",
    "    def __contains__(self, item):\n",
    "        walker = self.root\n",
    "        for letter in item:\n",
    "            if walker.is_conected(letter):\n",
    "                walker = walker.get_child(letter)\n",
    "            else:\n",
    "                return False\n",
    "        return True\n",
    "\n",
    "class SufixesTrieNode:\n",
    "    def __init__(self) -> None:\n",
    "        self.children = dict()\n",
    "    \n",
    "    def get_child(self, branch_str: str):\n",
    "        if self.is_conected(branch_str):\n",
    "            return self.children[branch_str]\n",
    "        else:\n",
    "            raise ValueError(f\"NOT SUCH BRANCH: {branch_str}\")\n",
    "    \n",
    "    def add_child(self, branch_str: str):\n",
    "        if self.is_conected(branch_str):\n",
    "            raise ValueError(\"SUCH CHILD ALREADY EXIST\")\n",
    "        else:\n",
    "            self.children[branch_str] = SufixesTrieNode()\n",
    "    \n",
    "    def is_conected(self, branch_str: str):\n",
    "        return branch_str in self.children"
   ]
  },
  {
   "cell_type": "code",
   "execution_count": 57,
   "metadata": {},
   "outputs": [
    {
     "name": "stdout",
     "output_type": "stream",
     "text": [
      "ababcd$\n",
      "0 a babcd$\n",
      "1 ab cd$\n",
      "1 bc d$\n",
      "0 c d$\n",
      "0 $ \n",
      "True\n"
     ]
    }
   ],
   "source": [
    "print(data[2])\n",
    "trie = SufixesTrie(data[2])\n",
    "\n",
    "print(\"ab\" in trie)\n"
   ]
  },
  {
   "cell_type": "markdown",
   "metadata": {},
   "source": [
    "# Trie budowane on line (z sufix link'ami)"
   ]
  },
  {
   "cell_type": "code",
   "execution_count": 61,
   "metadata": {},
   "outputs": [],
   "source": [
    "class OnLineTrie:\n",
    "    def __build_tree(self, string: str):\n",
    "        depest = self.root\n",
    "\n",
    "        for letter in string:\n",
    "            node = depest\n",
    "            depest = None\n",
    "            prev = None\n",
    "\n",
    "            while not(node.is_conected(letter)):\n",
    "                node.add_child(letter)\n",
    "                child = node.get_child(letter)\n",
    "\n",
    "                if depest is None:\n",
    "                    depest = child\n",
    "                else:\n",
    "                    prev.link(child)\n",
    "                \n",
    "                if(node == self.root):\n",
    "                    child.link(self.root)\n",
    "                \n",
    "                prev = child\n",
    "                if node.is_linked():\n",
    "                    node = node.get_link()\n",
    "                else:\n",
    "                    node = None\n",
    "                    break\n",
    "            \n",
    "            if node:\n",
    "                prev.link(node.add_child(letter))\n",
    "\n",
    "    def __init__(self, string: str) -> None:\n",
    "        self.root = OnLineTrieNode()\n",
    "        self.__build_tree(string)\n",
    "\n",
    "    def __contains__(self, item):\n",
    "        walker = self.root\n",
    "        for letter in item:\n",
    "            if walker.is_conected(letter):\n",
    "                walker = walker.get_child(letter)\n",
    "            else:\n",
    "                return False\n",
    "        return True\n",
    "\n",
    "class OnLineTrieNode:\n",
    "    def __init__(self) -> None:\n",
    "        self.children = dict()\n",
    "        self.up_link = None\n",
    "    \n",
    "    def get_child(self, branch_str: str):\n",
    "        if self.is_conected(branch_str):\n",
    "            return self.children[branch_str]\n",
    "        else:\n",
    "            raise ValueError(f\"NOT SUCH BRANCH: {branch_str}\")\n",
    "    \n",
    "    def add_child(self, branch_str: str):\n",
    "        if self.is_conected(branch_str):\n",
    "            raise ValueError(\"SUCH CHILD ALREADY EXIST\")\n",
    "        else:\n",
    "            self.children[branch_str] = OnLineTrieNode()\n",
    "    \n",
    "    def is_conected(self, branch_str):\n",
    "        return branch_str in self.children\n",
    "    \n",
    "    def link(self, node):\n",
    "        if isinstance(node, OnLineTrieNode):\n",
    "            self.link = node\n",
    "        else:\n",
    "            raise ValueError(f\"WRONG ISTANCE OF UP_LINK: {type(node)}\")\n",
    "    \n",
    "    def is_linked(self):\n",
    "        return self.up_link is not None\n",
    "    \n",
    "    def get_link(self):\n",
    "        if self.is_linked():\n",
    "            return self.link\n",
    "        else:\n",
    "            raise RuntimeError(\"THIS NODE DONT HAVE LINK\")"
   ]
  },
  {
   "cell_type": "code",
   "execution_count": 62,
   "metadata": {},
   "outputs": [
    {
     "name": "stdout",
     "output_type": "stream",
     "text": [
      "ababcd$\n",
      "True\n"
     ]
    }
   ],
   "source": [
    "print(data[2])\n",
    "trie = OnLineTrie(data[2])\n",
    "\n",
    "print(\"ab\" in trie)\n"
   ]
  },
  {
   "cell_type": "code",
   "execution_count": null,
   "metadata": {},
   "outputs": [],
   "source": []
  }
 ],
 "metadata": {
  "kernelspec": {
   "display_name": "base",
   "language": "python",
   "name": "python3"
  },
  "language_info": {
   "codemirror_mode": {
    "name": "ipython",
    "version": 3
   },
   "file_extension": ".py",
   "mimetype": "text/x-python",
   "name": "python",
   "nbconvert_exporter": "python",
   "pygments_lexer": "ipython3",
   "version": "3.11.3"
  },
  "orig_nbformat": 4
 },
 "nbformat": 4,
 "nbformat_minor": 2
}
