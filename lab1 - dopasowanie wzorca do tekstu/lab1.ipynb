{
 "cells": [
  {
   "cell_type": "markdown",
   "metadata": {},
   "source": [
    "# DOPASOWANI WZORCA DO TEKSTU"
   ]
  },
  {
   "cell_type": "code",
   "execution_count": 2,
   "metadata": {},
   "outputs": [
    {
     "name": "stdout",
     "output_type": "stream",
     "text": [
      "{'s', 'ż', 'Ł', '5', '(', '6', 'ę', '—', 'v', 'u', 'D', 'ą', 'M', 'K', 'P', '/', 'ń', 'x', '\\n', '.', '-', '*', '8', '7', 'N', 'w', 'y', 'b', 'ź', 'a', 'U', 'T', 'I', 'ć', 'ł', 'd', 'S', 'à', '4', 'Ć', 'l', 'R', 'V', '…', 'ó', 'F', 'h', 'Ó', 'e', 'O', 'p', 'ś', '2', ' ', ',', '!', 'Z', 'W', 'r', 'é', 'A', 'Ż', 'j', 'C', '3', 'k', 'z', '»', 'Ź', 'q', 'f', 'Ś', '1', 't', 'H', ';', 'J', ':', 'E', 'i', 'g', '?', 'm', 'n', 'G', ')', 'L', '9', '«', 'B', 'o', 'c', 'æ', '0'}\n"
     ]
    }
   ],
   "source": [
    "filename = \"pan-tadeusz.txt\"\n",
    "ALPHABET = set()\n",
    "with open(filename, \"r\") as file:\n",
    "    T = file.read()\n",
    "    ALPHABET.update(T)\n",
    "print(ALPHABET)\n",
    "ALGORITHMS = dict()\n",
    "Names = [\"naiwny\", \"automatów skończonych\", \"KMP\"]"
   ]
  },
  {
   "attachments": {},
   "cell_type": "markdown",
   "metadata": {},
   "source": [
    "##      Algorytm naiwny"
   ]
  },
  {
   "cell_type": "code",
   "execution_count": 3,
   "metadata": {},
   "outputs": [
    {
     "name": "stdout",
     "output_type": "stream",
     "text": [
      "[0, 4, 8]\n"
     ]
    }
   ],
   "source": [
    "def findPattern(T, P):\n",
    "    n = len(T)\n",
    "    m = len(P)\n",
    "    S = []\n",
    "    for i in range(n-m+1):\n",
    "        if T[i:i+m] == P:\n",
    "            S.append(i)\n",
    "    return S\n",
    "\n",
    "ALGORITHMS[Names[0]] = findPattern\n",
    "print(findPattern(\"ala ala ala\", \"ala\"))"
   ]
  },
  {
   "attachments": {},
   "cell_type": "markdown",
   "metadata": {},
   "source": [
    "## Algorytm automat skończonych"
   ]
  },
  {
   "cell_type": "code",
   "execution_count": 4,
   "metadata": {},
   "outputs": [
    {
     "name": "stdout",
     "output_type": "stream",
     "text": [
      "[0, 4, 8]\n"
     ]
    }
   ],
   "source": [
    "def findMatch(P, a, i):\n",
    "    m = len(P)\n",
    "    Pi = P[:i] + a\n",
    "    m2 = len(Pi)\n",
    "    for i in range(min(m, m2), 0, -1):\n",
    "        if Pi[m2-i:] == P[:i]:\n",
    "            return i\n",
    "    return 0            \n",
    "\n",
    "def makeAutomaton(P):\n",
    "    m = len(P)\n",
    "    my_alphabet = set(P)\n",
    "    return [{a:findMatch(P, a, i) for a in my_alphabet} for i in range(m + 1)]\n",
    "\n",
    "def _findPatternAutomat(T, m, A):\n",
    "    state = 0\n",
    "    S=[]\n",
    "    for i, letter in enumerate(T):\n",
    "        state = A[state].get(letter, 0)\n",
    "        if state == m:\n",
    "            S.append(i-m + 1)\n",
    "    return S\n",
    "\n",
    "\n",
    "def findPattern(T, P):\n",
    "    A = makeAutomaton(P)\n",
    "    return _findPatternAutomat(T, len(P), A)\n",
    "\n",
    "ALGORITHMS[Names[1]] = findPattern\n",
    "print(findPattern(\"ala ala ala\", \"ala\"))"
   ]
  },
  {
   "attachments": {},
   "cell_type": "markdown",
   "metadata": {},
   "source": [
    "## Algorytm KMP"
   ]
  },
  {
   "cell_type": "code",
   "execution_count": 4,
   "metadata": {},
   "outputs": [
    {
     "name": "stdout",
     "output_type": "stream",
     "text": [
      "[0, 4, 8]\n"
     ]
    }
   ],
   "source": [
    "def prefixFunction(P):\n",
    "    res = [0]\n",
    "    k = 0\n",
    "    for j in range(1, len(P)):\n",
    "        while k > 0 and P[k] != P[j]:\n",
    "            k = res[k-1]\n",
    "        if P[k] == P[j]:\n",
    "            k += 1\n",
    "        res.append(k)\n",
    "    return res\n",
    "\n",
    "\n",
    "def _findPatternKMP(T, P, pi):\n",
    "    S = []\n",
    "    m = len(P)\n",
    "    q = 0\n",
    "    for i in range(len(T)):\n",
    "        while q > 0 and T[i] != P[q]:\n",
    "            q = pi[q-1]\n",
    "        if T[i] == P[q]:\n",
    "            q += 1 \n",
    "        if q == m:\n",
    "            q = pi[q-1]\n",
    "            S.append(i - m + 1)\n",
    "    return S\n",
    "\n",
    "def findPattern(T, P):\n",
    "    pi = prefixFunction(P)\n",
    "    return _findPatternKMP(T, P, pi)\n",
    "\n",
    "ALGORITHMS[Names[2]] = findPattern\n",
    "print(findPattern(\"ala ala ala\", \"ala\"))"
   ]
  },
  {
   "attachments": {},
   "cell_type": "markdown",
   "metadata": {},
   "source": [
    "## Testy wydajnościowe\n",
    "### w plikach test1.txt, test2.txt, test3.txt w pierwszej linii są zapisane wzorce a w kolejnych tekst w którym ich szukamy"
   ]
  },
  {
   "cell_type": "code",
   "execution_count": 44,
   "metadata": {},
   "outputs": [],
   "source": [
    "import time as timelib\n",
    "LINE = \"---------------------------------------------------------------------------------------------------------\"\n",
    "def _time(function, args):\n",
    "    tmp = function.__defaults__\n",
    "    function.__defaults__ = args\n",
    "    start = timelib.time()\n",
    "    res = function()\n",
    "    end = timelib.time()\n",
    "    function.__defaults__ = tmp\n",
    "    return round(100 *(end - start), 4), res\n",
    "\n",
    "def _print_res(res):\n",
    "    n = len(res)\n",
    "    if n > 10:\n",
    "        print(f\"\\twynik:\\t{res[:10]}......\")\n",
    "    else:\n",
    "        print(f\"\\twynik:\\t{res}\")\n",
    "\n",
    "def RunTest(test_file_name, preprocesing = None, algoritm = None):\n",
    "    with open(test_file_name, \"r\") as test:\n",
    "        Patterns = test.readline().split()\n",
    "        Text = test.read()\n",
    "    print(f\"n={len(Text)}\")\n",
    "    print(LINE)\n",
    "    for P in Patterns:\n",
    "        if(len(P)>10):\n",
    "            print(f\"Pattern={P[:10]}...\")\n",
    "        else:\n",
    "            print(f\"Pattern={P}\")\n",
    "        print(f\"m={len(P)}\")\n",
    "        print(\"\\tALGORYTM NAIWNY\")\n",
    "        print(\"\\tpreprocesing:\\t0ms\")\n",
    "        t, res = _time(ALGORITHMS[\"naiwny\"], (Text, P))\n",
    "        print(f\"\\tszukanie wzorców:\\t{t}ms\")\n",
    "        print(f\"\\tsumarycznie:\\t{t}ms\")\n",
    "        _print_res(res)\n",
    "\n",
    "        print()\n",
    "        print(\"\\tALGORYTM AUTOMATÓW SKOŃCZONYCH\")\n",
    "        t1, A = _time(makeAutomaton, (P,))\n",
    "        print(f\"\\tpreprocesing:\\t{t1}ms\")\n",
    "        t2, res = _time(_findPatternAutomat, (Text, len(P), A))\n",
    "        print(f\"\\tszukanie wzorców:\\t{t2}ms\")\n",
    "        print(f\"\\tsumarycznie:\\t{t1 + t2}ms\")\n",
    "        _print_res(res)\n",
    "\n",
    "        print()\n",
    "        print(\"\\tALGORYTM KMP\")\n",
    "        t3, pi = _time(prefixFunction, (P,))\n",
    "        print(f\"\\tpreprocesing:\\t{t3}ms\")\n",
    "        t4, res = _time(_findPatternKMP, (Text, P, pi))\n",
    "        print(f\"\\tszukanie wzorców:\\t{t4}ms\")\n",
    "        print(f\"\\tsumarycznie:\\t{t3 + t4}ms\")\n",
    "        _print_res(res)\n",
    "\n",
    "        print(LINE)\n",
    "        if preprocesing is not None:\n",
    "            preprocesing.append((0, t1, t3))\n",
    "        if algoritm is not None:\n",
    "            algoritm.append((t, t2, t4))"
   ]
  },
  {
   "cell_type": "code",
   "execution_count": 58,
   "metadata": {},
   "outputs": [
    {
     "name": "stdout",
     "output_type": "stream",
     "text": [
      "test1.txt\n",
      "n=199\n",
      "---------------------------------------------------------------------------------------------------------\n",
      "Pattern=aa\n",
      "m=2\n",
      "\tALGORYTM NAIWNY\n",
      "\tpreprocesing:\t0ms\n",
      "\tszukanie wzorców:\t0.0ms\n",
      "\tsumarycznie:\t0.0ms\n",
      "\twynik:\t[50, 53, 64, 65, 77, 78, 167, 168, 186]\n",
      "\n",
      "\tALGORYTM AUTOMATÓW SKOŃCZONYCH\n",
      "\tpreprocesing:\t0.0ms\n",
      "\tszukanie wzorców:\t0.0ms\n",
      "\tsumarycznie:\t0.0ms\n",
      "\twynik:\t[50, 53, 64, 65, 77, 78, 167, 168, 186]\n",
      "\n",
      "\tALGORYTM KMP\n",
      "\tpreprocesing:\t0.0ms\n",
      "\tszukanie wzorców:\t0.0ms\n",
      "\tsumarycznie:\t0.0ms\n",
      "\twynik:\t[50, 53, 64, 65, 77, 78, 167, 168, 186]\n",
      "---------------------------------------------------------------------------------------------------------\n",
      "Pattern=abbab\n",
      "m=5\n",
      "\tALGORYTM NAIWNY\n",
      "\tpreprocesing:\t0ms\n",
      "\tszukanie wzorców:\t0.0ms\n",
      "\tsumarycznie:\t0.0ms\n",
      "\twynik:\t[79, 123]\n",
      "\n",
      "\tALGORYTM AUTOMATÓW SKOŃCZONYCH\n",
      "\tpreprocesing:\t0.0ms\n",
      "\tszukanie wzorców:\t0.0ms\n",
      "\tsumarycznie:\t0.0ms\n",
      "\twynik:\t[79, 123]\n",
      "\n",
      "\tALGORYTM KMP\n",
      "\tpreprocesing:\t0.0ms\n",
      "\tszukanie wzorców:\t0.0995ms\n",
      "\tsumarycznie:\t0.0995ms\n",
      "\twynik:\t[79, 123]\n",
      "---------------------------------------------------------------------------------------------------------\n",
      "Pattern=aaabc\n",
      "m=5\n",
      "\tALGORYTM NAIWNY\n",
      "\tpreprocesing:\t0ms\n",
      "\tszukanie wzorców:\t0.0ms\n",
      "\tsumarycznie:\t0.0ms\n",
      "\twynik:\t[167]\n",
      "\n",
      "\tALGORYTM AUTOMATÓW SKOŃCZONYCH\n",
      "\tpreprocesing:\t0.0ms\n",
      "\tszukanie wzorców:\t0.0ms\n",
      "\tsumarycznie:\t0.0ms\n",
      "\twynik:\t[167]\n",
      "\n",
      "\tALGORYTM KMP\n",
      "\tpreprocesing:\t0.0ms\n",
      "\tszukanie wzorców:\t0.0ms\n",
      "\tsumarycznie:\t0.0ms\n",
      "\twynik:\t[167]\n",
      "---------------------------------------------------------------------------------------------------------\n",
      "Pattern=ababacab\n",
      "m=8\n",
      "\tALGORYTM NAIWNY\n",
      "\tpreprocesing:\t0ms\n",
      "\tszukanie wzorców:\t0.0ms\n",
      "\tsumarycznie:\t0.0ms\n",
      "\twynik:\t[187]\n",
      "\n",
      "\tALGORYTM AUTOMATÓW SKOŃCZONYCH\n",
      "\tpreprocesing:\t0.0ms\n",
      "\tszukanie wzorców:\t0.0997ms\n",
      "\tsumarycznie:\t0.0997ms\n",
      "\twynik:\t[187]\n",
      "\n",
      "\tALGORYTM KMP\n",
      "\tpreprocesing:\t0.0ms\n",
      "\tszukanie wzorców:\t0.0ms\n",
      "\tsumarycznie:\t0.0ms\n",
      "\twynik:\t[187]\n",
      "---------------------------------------------------------------------------------------------------------\n",
      "\n",
      "\n",
      "\n",
      "\n",
      "\n",
      "test2.txt\n",
      "n=10000\n",
      "---------------------------------------------------------------------------------------------------------\n",
      "Pattern=aaaaaaaaaa...\n",
      "m=75\n",
      "\tALGORYTM NAIWNY\n",
      "\tpreprocesing:\t0ms\n",
      "\tszukanie wzorców:\t0.6982ms\n",
      "\tsumarycznie:\t0.6982ms\n",
      "\twynik:\t[0, 1, 2, 3, 4, 5, 6, 7, 8, 9]......\n",
      "\n",
      "\tALGORYTM AUTOMATÓW SKOŃCZONYCH\n",
      "\tpreprocesing:\t0.0ms\n",
      "\tszukanie wzorców:\t0.6981ms\n",
      "\tsumarycznie:\t0.6981ms\n",
      "\twynik:\t[0, 1, 2, 3, 4, 5, 6, 7, 8, 9]......\n",
      "\n",
      "\tALGORYTM KMP\n",
      "\tpreprocesing:\t0.0ms\n",
      "\tszukanie wzorców:\t0.798ms\n",
      "\tsumarycznie:\t0.798ms\n",
      "\twynik:\t[0, 1, 2, 3, 4, 5, 6, 7, 8, 9]......\n",
      "---------------------------------------------------------------------------------------------------------\n",
      "Pattern=aaaaaaaaaa...\n",
      "m=123\n",
      "\tALGORYTM NAIWNY\n",
      "\tpreprocesing:\t0ms\n",
      "\tszukanie wzorców:\t0.4997ms\n",
      "\tsumarycznie:\t0.4997ms\n",
      "\twynik:\t[0, 1, 2, 3, 4, 5, 6, 7, 8, 9]......\n",
      "\n",
      "\tALGORYTM AUTOMATÓW SKOŃCZONYCH\n",
      "\tpreprocesing:\t0.0ms\n",
      "\tszukanie wzorców:\t0.4977ms\n",
      "\tsumarycznie:\t0.4977ms\n",
      "\twynik:\t[0, 1, 2, 3, 4, 5, 6, 7, 8, 9]......\n",
      "\n",
      "\tALGORYTM KMP\n",
      "\tpreprocesing:\t0.0ms\n",
      "\tszukanie wzorców:\t0.6981ms\n",
      "\tsumarycznie:\t0.6981ms\n",
      "\twynik:\t[0, 1, 2, 3, 4, 5, 6, 7, 8, 9]......\n",
      "---------------------------------------------------------------------------------------------------------\n",
      "Pattern=aaaaaaaaaa...\n",
      "m=357\n",
      "\tALGORYTM NAIWNY\n",
      "\tpreprocesing:\t0ms\n",
      "\tszukanie wzorców:\t0.6001ms\n",
      "\tsumarycznie:\t0.6001ms\n",
      "\twynik:\t[0, 1, 2, 3, 4, 5, 6, 7, 8, 9]......\n",
      "\n",
      "\tALGORYTM AUTOMATÓW SKOŃCZONYCH\n",
      "\tpreprocesing:\t0.1976ms\n",
      "\tszukanie wzorców:\t0.4986ms\n",
      "\tsumarycznie:\t0.6961999999999999ms\n",
      "\twynik:\t[0, 1, 2, 3, 4, 5, 6, 7, 8, 9]......\n",
      "\n",
      "\tALGORYTM KMP\n",
      "\tpreprocesing:\t0.0ms\n",
      "\tszukanie wzorców:\t1.4958ms\n",
      "\tsumarycznie:\t1.4958ms\n",
      "\twynik:\t[0, 1, 2, 3, 4, 5, 6, 7, 8, 9]......\n",
      "---------------------------------------------------------------------------------------------------------\n",
      "\n",
      "\n",
      "\n",
      "\n",
      "\n",
      "test3.txt\n",
      "n=20000\n",
      "---------------------------------------------------------------------------------------------------------\n",
      "Pattern=abcdefghij...\n",
      "m=73\n",
      "\tALGORYTM NAIWNY\n",
      "\tpreprocesing:\t0ms\n",
      "\tszukanie wzorców:\t1.0971ms\n",
      "\tsumarycznie:\t1.0971ms\n",
      "\twynik:\t[0, 20, 40, 60, 80, 100, 120, 140, 160, 180]......\n",
      "\n",
      "\tALGORYTM AUTOMATÓW SKOŃCZONYCH\n",
      "\tpreprocesing:\t3.2912ms\n",
      "\tszukanie wzorców:\t0.3988ms\n",
      "\tsumarycznie:\t3.69ms\n",
      "\twynik:\t[0, 20, 40, 60, 80, 100, 120, 140, 160, 180]......\n",
      "\n",
      "\tALGORYTM KMP\n",
      "\tpreprocesing:\t0.0ms\n",
      "\tszukanie wzorców:\t1.2967ms\n",
      "\tsumarycznie:\t1.2967ms\n",
      "\twynik:\t[0, 20, 40, 60, 80, 100, 120, 140, 160, 180]......\n",
      "---------------------------------------------------------------------------------------------------------\n",
      "Pattern=abcdefghij...\n",
      "m=4411\n",
      "\tALGORYTM NAIWNY\n",
      "\tpreprocesing:\t0ms\n",
      "\tszukanie wzorców:\t0.6979ms\n",
      "\tsumarycznie:\t0.6979ms\n",
      "\twynik:\t[0, 20, 40, 60, 80, 100, 120, 140, 160, 180]......\n",
      "\n",
      "\tALGORYTM AUTOMATÓW SKOŃCZONYCH\n",
      "\tpreprocesing:\t14228.9681ms\n",
      "\tszukanie wzorców:\t0.5082ms\n",
      "\tsumarycznie:\t14229.4763ms\n",
      "\twynik:\t[0, 20, 40, 60, 80, 100, 120, 140, 160, 180]......\n",
      "\n",
      "\tALGORYTM KMP\n",
      "\tpreprocesing:\t0.2594ms\n",
      "\tszukanie wzorców:\t0.9676ms\n",
      "\tsumarycznie:\t1.227ms\n",
      "\twynik:\t[0, 20, 40, 60, 80, 100, 120, 140, 160, 180]......\n",
      "---------------------------------------------------------------------------------------------------------\n",
      "\n",
      "\n",
      "\n",
      "\n",
      "\n"
     ]
    }
   ],
   "source": [
    "testy = [\"test1.txt\", \"test2.txt\", \"test3.txt\"]\n",
    "for test in testy:\n",
    "    print(test)\n",
    "    RunTest(test)\n",
    "    print(\"\\n\\n\\n\\n\")"
   ]
  },
  {
   "attachments": {},
   "cell_type": "markdown",
   "metadata": {},
   "source": [
    "## Badanie algorytmów na podstawie Pana Tadeusza"
   ]
  },
  {
   "cell_type": "code",
   "execution_count": 45,
   "metadata": {},
   "outputs": [
    {
     "name": "stdout",
     "output_type": "stream",
     "text": [
      "n=447342\n",
      "---------------------------------------------------------------------------------------------------------\n",
      "Pattern=pan\n",
      "m=3\n",
      "\tALGORYTM NAIWNY\n",
      "\tpreprocesing:\t0ms\n",
      "\tszukanie wzorców:\t22.6082ms\n",
      "\tsumarycznie:\t22.6082ms\n",
      "\twynik:\t[129, 1254, 2227, 7013, 7077, 7713, 7995, 8167, 8189, 9210]......\n",
      "\n",
      "\tALGORYTM AUTOMATÓW SKOŃCZONYCH\n",
      "\tpreprocesing:\t0.0ms\n",
      "\tszukanie wzorców:\t13.8516ms\n",
      "\tsumarycznie:\t13.8516ms\n",
      "\twynik:\t[129, 1254, 2227, 7013, 7077, 7713, 7995, 8167, 8189, 9210]......\n",
      "\n",
      "\tALGORYTM KMP\n",
      "\tpreprocesing:\t0.0ms\n",
      "\tszukanie wzorców:\t12.2024ms\n",
      "\tsumarycznie:\t12.2024ms\n",
      "\twynik:\t[129, 1254, 2227, 7013, 7077, 7713, 7995, 8167, 8189, 9210]......\n",
      "---------------------------------------------------------------------------------------------------------\n",
      "Pattern=pani\n",
      "m=4\n",
      "\tALGORYTM NAIWNY\n",
      "\tpreprocesing:\t0ms\n",
      "\tszukanie wzorców:\t14.6317ms\n",
      "\tsumarycznie:\t14.6317ms\n",
      "\twynik:\t[129, 1254, 7995, 14647, 18326, 18797, 27375, 33394, 34461, 34487]......\n",
      "\n",
      "\tALGORYTM AUTOMATÓW SKOŃCZONYCH\n",
      "\tpreprocesing:\t0.0ms\n",
      "\tszukanie wzorców:\t17.6611ms\n",
      "\tsumarycznie:\t17.6611ms\n",
      "\twynik:\t[129, 1254, 7995, 14647, 18326, 18797, 27375, 33394, 34461, 34487]......\n",
      "\n",
      "\tALGORYTM KMP\n",
      "\tpreprocesing:\t0.0ms\n",
      "\tszukanie wzorców:\t16.6849ms\n",
      "\tsumarycznie:\t16.6849ms\n",
      "\twynik:\t[129, 1254, 7995, 14647, 18326, 18797, 27375, 33394, 34461, 34487]......\n",
      "---------------------------------------------------------------------------------------------------------\n"
     ]
    }
   ],
   "source": [
    "preprocesingTime = []\n",
    "matchingTime = []\n",
    "RunTest(\"pan-tadeusz.txt\", preprocesing=preprocesingTime, algoritm=matchingTime)"
   ]
  },
  {
   "cell_type": "code",
   "execution_count": 46,
   "metadata": {},
   "outputs": [
    {
     "name": "stdout",
     "output_type": "stream",
     "text": [
      "n=447342\n",
      "---------------------------------------------------------------------------------------------------------\n",
      "Pattern=pan\n",
      "m=3\n",
      "\tALGORYTM NAIWNY\n",
      "\tpreprocesing:\t0ms\n",
      "\tszukanie wzorców:\t21.3424ms\n",
      "\tsumarycznie:\t21.3424ms\n",
      "\twynik:\t[129, 1254, 2227, 7013, 7077, 7713, 7995, 8167, 8189, 9210]......\n",
      "\n",
      "\tALGORYTM AUTOMATÓW SKOŃCZONYCH\n",
      "\tpreprocesing:\t0.0ms\n",
      "\tszukanie wzorców:\t16.8276ms\n",
      "\tsumarycznie:\t16.8276ms\n",
      "\twynik:\t[129, 1254, 2227, 7013, 7077, 7713, 7995, 8167, 8189, 9210]......\n",
      "\n",
      "\tALGORYTM KMP\n",
      "\tpreprocesing:\t0.0ms\n",
      "\tszukanie wzorców:\t14.4044ms\n",
      "\tsumarycznie:\t14.4044ms\n",
      "\twynik:\t[129, 1254, 2227, 7013, 7077, 7713, 7995, 8167, 8189, 9210]......\n",
      "---------------------------------------------------------------------------------------------------------\n",
      "Pattern=pani\n",
      "m=4\n",
      "\tALGORYTM NAIWNY\n",
      "\tpreprocesing:\t0ms\n",
      "\tszukanie wzorców:\t13.6914ms\n",
      "\tsumarycznie:\t13.6914ms\n",
      "\twynik:\t[129, 1254, 7995, 14647, 18326, 18797, 27375, 33394, 34461, 34487]......\n",
      "\n",
      "\tALGORYTM AUTOMATÓW SKOŃCZONYCH\n",
      "\tpreprocesing:\t0.0ms\n",
      "\tszukanie wzorców:\t11.9063ms\n",
      "\tsumarycznie:\t11.9063ms\n",
      "\twynik:\t[129, 1254, 7995, 14647, 18326, 18797, 27375, 33394, 34461, 34487]......\n",
      "\n",
      "\tALGORYTM KMP\n",
      "\tpreprocesing:\t0.0ms\n",
      "\tszukanie wzorców:\t12.1099ms\n",
      "\tsumarycznie:\t12.1099ms\n",
      "\twynik:\t[129, 1254, 7995, 14647, 18326, 18797, 27375, 33394, 34461, 34487]......\n",
      "---------------------------------------------------------------------------------------------------------\n"
     ]
    }
   ],
   "source": [
    "RunTest(\"pan-tadeusz.txt\", preprocesing=preprocesingTime, algoritm=matchingTime)"
   ]
  },
  {
   "cell_type": "code",
   "execution_count": 27,
   "metadata": {},
   "outputs": [
    {
     "name": "stdout",
     "output_type": "stream",
     "text": [
      "n=447342\n",
      "---------------------------------------------------------------------------------------------------------\n",
      "Pattern=pan\n",
      "m=3\n",
      "\tALGORYTM NAIWNY\n",
      "\tpreprocesing:\t0ms\n",
      "\tszukanie wzorców:\t47.7224ms\n",
      "\tsumarycznie:\t47.7224ms\n",
      "\twynik:\t[129, 1254, 2227, 7013, 7077, 7713, 7995, 8167, 8189, 9210]......\n",
      "\n",
      "\tALGORYTM AUTOMATÓW SKOŃCZONYCH\n",
      "\tpreprocesing:\t0.0ms\n",
      "\tszukanie wzorców:\t39.4499ms\n",
      "\tsumarycznie:\t39.4499ms\n",
      "\twynik:\t[129, 1254, 2227, 7013, 7077, 7713, 7995, 8167, 8189, 9210]......\n",
      "\n",
      "\tALGORYTM KMP\n",
      "\tpreprocesing:\t0.0ms\n",
      "\tszukanie wzorców:\t47.4937ms\n",
      "\tsumarycznie:\t47.4937ms\n",
      "\twynik:\t[129, 1254, 2227, 7013, 7077, 7713, 7995, 8167, 8189, 9210]......\n",
      "---------------------------------------------------------------------------------------------------------\n",
      "Pattern=pani\n",
      "m=4\n",
      "\tALGORYTM NAIWNY\n",
      "\tpreprocesing:\t0ms\n",
      "\tszukanie wzorców:\t25.2173ms\n",
      "\tsumarycznie:\t25.2173ms\n",
      "\twynik:\t[129, 1254, 7995, 14647, 18326, 18797, 27375, 33394, 34461, 34487]......\n",
      "\n",
      "\tALGORYTM AUTOMATÓW SKOŃCZONYCH\n",
      "\tpreprocesing:\t0.0ms\n",
      "\tszukanie wzorców:\t22.1644ms\n",
      "\tsumarycznie:\t22.1644ms\n",
      "\twynik:\t[129, 1254, 7995, 14647, 18326, 18797, 27375, 33394, 34461, 34487]......\n",
      "\n",
      "\tALGORYTM KMP\n",
      "\tpreprocesing:\t0.0ms\n",
      "\tszukanie wzorców:\t21.58ms\n",
      "\tsumarycznie:\t21.58ms\n",
      "\twynik:\t[129, 1254, 7995, 14647, 18326, 18797, 27375, 33394, 34461, 34487]......\n",
      "---------------------------------------------------------------------------------------------------------\n"
     ]
    }
   ],
   "source": [
    "RunTest(\"pan-tadeusz.txt\", preprocesing=preprocesingTime, algoritm=matchingTime)"
   ]
  },
  {
   "cell_type": "code",
   "execution_count": 28,
   "metadata": {},
   "outputs": [
    {
     "name": "stdout",
     "output_type": "stream",
     "text": [
      "n=447342\n",
      "---------------------------------------------------------------------------------------------------------\n",
      "Pattern=pan\n",
      "m=3\n",
      "\tALGORYTM NAIWNY\n",
      "\tpreprocesing:\t0ms\n",
      "\tszukanie wzorców:\t50.8393ms\n",
      "\tsumarycznie:\t50.8393ms\n",
      "\twynik:\t[129, 1254, 2227, 7013, 7077, 7713, 7995, 8167, 8189, 9210]......\n",
      "\n",
      "\tALGORYTM AUTOMATÓW SKOŃCZONYCH\n",
      "\tpreprocesing:\t0.0511ms\n",
      "\tszukanie wzorców:\t24.7452ms\n",
      "\tsumarycznie:\t24.796300000000002ms\n",
      "\twynik:\t[129, 1254, 2227, 7013, 7077, 7713, 7995, 8167, 8189, 9210]......\n",
      "\n",
      "\tALGORYTM KMP\n",
      "\tpreprocesing:\t0.0ms\n",
      "\tszukanie wzorców:\t30.1308ms\n",
      "\tsumarycznie:\t30.1308ms\n",
      "\twynik:\t[129, 1254, 2227, 7013, 7077, 7713, 7995, 8167, 8189, 9210]......\n",
      "---------------------------------------------------------------------------------------------------------\n",
      "Pattern=pani\n",
      "m=4\n",
      "\tALGORYTM NAIWNY\n",
      "\tpreprocesing:\t0ms\n",
      "\tszukanie wzorców:\t33.0441ms\n",
      "\tsumarycznie:\t33.0441ms\n",
      "\twynik:\t[129, 1254, 7995, 14647, 18326, 18797, 27375, 33394, 34461, 34487]......\n",
      "\n",
      "\tALGORYTM AUTOMATÓW SKOŃCZONYCH\n",
      "\tpreprocesing:\t0.0ms\n",
      "\tszukanie wzorców:\t28.4235ms\n",
      "\tsumarycznie:\t28.4235ms\n",
      "\twynik:\t[129, 1254, 7995, 14647, 18326, 18797, 27375, 33394, 34461, 34487]......\n",
      "\n",
      "\tALGORYTM KMP\n",
      "\tpreprocesing:\t0.0ms\n",
      "\tszukanie wzorców:\t27.4617ms\n",
      "\tsumarycznie:\t27.4617ms\n",
      "\twynik:\t[129, 1254, 7995, 14647, 18326, 18797, 27375, 33394, 34461, 34487]......\n",
      "---------------------------------------------------------------------------------------------------------\n"
     ]
    }
   ],
   "source": [
    "RunTest(\"pan-tadeusz.txt\", preprocesing=preprocesingTime, algoritm=matchingTime)"
   ]
  },
  {
   "cell_type": "code",
   "execution_count": 29,
   "metadata": {},
   "outputs": [
    {
     "name": "stdout",
     "output_type": "stream",
     "text": [
      "n=447342\n",
      "---------------------------------------------------------------------------------------------------------\n",
      "Pattern=pan\n",
      "m=3\n",
      "\tALGORYTM NAIWNY\n",
      "\tpreprocesing:\t0ms\n",
      "\tszukanie wzorców:\t38.09ms\n",
      "\tsumarycznie:\t38.09ms\n",
      "\twynik:\t[129, 1254, 2227, 7013, 7077, 7713, 7995, 8167, 8189, 9210]......\n",
      "\n",
      "\tALGORYTM AUTOMATÓW SKOŃCZONYCH\n",
      "\tpreprocesing:\t0.0ms\n",
      "\tszukanie wzorców:\t27.2814ms\n",
      "\tsumarycznie:\t27.2814ms\n",
      "\twynik:\t[129, 1254, 2227, 7013, 7077, 7713, 7995, 8167, 8189, 9210]......\n",
      "\n",
      "\tALGORYTM KMP\n",
      "\tpreprocesing:\t0.0ms\n",
      "\tszukanie wzorców:\t27.1514ms\n",
      "\tsumarycznie:\t27.1514ms\n",
      "\twynik:\t[129, 1254, 2227, 7013, 7077, 7713, 7995, 8167, 8189, 9210]......\n",
      "---------------------------------------------------------------------------------------------------------\n",
      "Pattern=pani\n",
      "m=4\n",
      "\tALGORYTM NAIWNY\n",
      "\tpreprocesing:\t0ms\n",
      "\tszukanie wzorców:\t36.1662ms\n",
      "\tsumarycznie:\t36.1662ms\n",
      "\twynik:\t[129, 1254, 7995, 14647, 18326, 18797, 27375, 33394, 34461, 34487]......\n",
      "\n",
      "\tALGORYTM AUTOMATÓW SKOŃCZONYCH\n",
      "\tpreprocesing:\t0.0ms\n",
      "\tszukanie wzorców:\t25.0726ms\n",
      "\tsumarycznie:\t25.0726ms\n",
      "\twynik:\t[129, 1254, 7995, 14647, 18326, 18797, 27375, 33394, 34461, 34487]......\n",
      "\n",
      "\tALGORYTM KMP\n",
      "\tpreprocesing:\t0.0ms\n",
      "\tszukanie wzorców:\t30.7678ms\n",
      "\tsumarycznie:\t30.7678ms\n",
      "\twynik:\t[129, 1254, 7995, 14647, 18326, 18797, 27375, 33394, 34461, 34487]......\n",
      "---------------------------------------------------------------------------------------------------------\n"
     ]
    }
   ],
   "source": [
    "RunTest(\"pan-tadeusz.txt\", preprocesing=preprocesingTime, algoritm=matchingTime)"
   ]
  },
  {
   "attachments": {},
   "cell_type": "markdown",
   "metadata": {},
   "source": [
    "## analiza wyników:"
   ]
  },
  {
   "cell_type": "code",
   "execution_count": 30,
   "metadata": {},
   "outputs": [
    {
     "name": "stdout",
     "output_type": "stream",
     "text": [
      "[(0, 0.0, 0.0), (0, 0.0, 0.0), (0, 0.0, 0.0), (0, 0.0, 0.0), (0, 0.0, 0.0), (0, 0.0, 0.0), (0, 0.0511, 0.0), (0, 0.0, 0.0), (0, 0.0, 0.0), (0, 0.0, 0.0)] \n",
      " [(132.3735, 82.322, 89.8772), (79.2989, 55.7895, 68.8774), (66.876, 57.9093, 43.3915), (36.5623, 25.5426, 20.7438), (47.7224, 39.4499, 47.4937), (25.2173, 22.1644, 21.58), (50.8393, 24.7452, 30.1308), (33.0441, 28.4235, 27.4617), (38.09, 27.2814, 27.1514), (36.1662, 25.0726, 30.7678)]\n"
     ]
    }
   ],
   "source": [
    "print(preprocesingTime,\"\\n\", matchingTime)"
   ]
  },
  {
   "cell_type": "code",
   "execution_count": 38,
   "metadata": {},
   "outputs": [
    {
     "name": "stdout",
     "output_type": "stream",
     "text": [
      "naiwny\t\t\t\tautomatów skończonych\t\tKMP\n",
      "pre-proc\tmatching\tpre-proc\tmatching\tpre-proc\tmatching\t\n",
      "0\t 132.3735\t 0.0\t 82.322\t 0.0\t 89.8772\t \n",
      "0\t 79.2989\t 0.0\t 55.7895\t 0.0\t 68.8774\t \n",
      "0\t 66.876\t 0.0\t 57.9093\t 0.0\t 43.3915\t \n",
      "0\t 36.5623\t 0.0\t 25.5426\t 0.0\t 20.7438\t \n",
      "0\t 47.7224\t 0.0\t 39.4499\t 0.0\t 47.4937\t \n",
      "0\t 25.2173\t 0.0\t 22.1644\t 0.0\t 21.58\t \n",
      "0\t 50.8393\t 0.0511\t 24.7452\t 0.0\t 30.1308\t \n",
      "0\t 33.0441\t 0.0\t 28.4235\t 0.0\t 27.4617\t \n",
      "0\t 38.09\t 0.0\t 27.2814\t 0.0\t 27.1514\t \n",
      "0\t 36.1662\t 0.0\t 25.0726\t 0.0\t 30.7678\t \n"
     ]
    }
   ],
   "source": [
    "n = len(matchingTime)\n",
    "preprocesing = {Names[i]: [t[i] for t in preprocesingTime] for i in range(3)}\n",
    "matching = {Names[i]: [t[i] for t in matchingTime] for i in range(3)}\n",
    "\n",
    "\n",
    "print(f\"{Names[0]}\\t\\t\\t\\t{Names[1]}\\t\\t{Names[2]}\")\n",
    "print(\"pre-proc\\tmatching\\t\"*3)\n",
    "for i in range(n):\n",
    "    for j in range(3):\n",
    "        print(preprocesing[Names[j]][i], matching[Names[j]][i], sep=\"\\t \", end=\"\\t \")\n",
    "    print()"
   ]
  },
  {
   "cell_type": "code",
   "execution_count": 41,
   "metadata": {},
   "outputs": [
    {
     "name": "stdout",
     "output_type": "stream",
     "text": [
      "naiwny:\n",
      "min:25.2173\n",
      "max:132.3735\n",
      "avg:54.61900000000001\n",
      "\n",
      "automatów skończonych:\n",
      "min:22.1644\n",
      "max:82.322\n",
      "avg:38.875150000000005\n",
      "\n",
      "KMP:\n",
      "min:20.7438\n",
      "max:89.8772\n",
      "avg:40.747530000000005\n",
      "\n"
     ]
    }
   ],
   "source": [
    "for i in range(3):\n",
    "    time = [preprocesing[Names[i]][j] + matching[Names[i]][j] for j in range(n)]\n",
    "    print(f\"{Names[i]}:\")\n",
    "    print(f\"min:{min(time)}\")\n",
    "    print(f\"max:{max(time)}\")\n",
    "    print(f\"avg:{(sum(time)/len(time))}\")\n",
    "    print()"
   ]
  },
  {
   "attachments": {},
   "cell_type": "markdown",
   "metadata": {},
   "source": [
    "Najgorzej radzi sobie algorytm naiwny, pozostałe dwa mają podobny czas działania, czasy preprocesingu jedynie w jednym przypadku były różne od zera, wyjątkowym przypadkiem było tworzenie w 4 wywołaniu automatu dla wzorca \"pan\" trwał 0.0511ms"
   ]
  },
  {
   "attachments": {},
   "cell_type": "markdown",
   "metadata": {},
   "source": [
    "## Proponowany test dla którego algorytm naiwy jest 5 razy dłuższy"
   ]
  },
  {
   "cell_type": "code",
   "execution_count": 83,
   "metadata": {},
   "outputs": [
    {
     "name": "stdout",
     "output_type": "stream",
     "text": [
      "n=1909005\n",
      "---------------------------------------------------------------------------------------------------------\n",
      "Pattern=abcabcabca...\n",
      "m=3001\n",
      "\tALGORYTM NAIWNY\n",
      "\tpreprocesing:\t0ms\n",
      "\tszukanie wzorców:\t387.43ms\n",
      "\tsumarycznie:\t387.43ms\n",
      "\twynik:\t[1000000, 1903001, 1906004]\n",
      "\n",
      "\tALGORYTM AUTOMATÓW SKOŃCZONYCH\n",
      "\tpreprocesing:\t1357.924ms\n",
      "\tszukanie wzorców:\t77.8903ms\n",
      "\tsumarycznie:\t1435.8143ms\n",
      "\twynik:\t[1000000, 1903001, 1906004]\n",
      "\n",
      "\tALGORYTM KMP\n",
      "\tpreprocesing:\t0.2224ms\n",
      "\tszukanie wzorców:\t98.8036ms\n",
      "\tsumarycznie:\t99.026ms\n",
      "\twynik:\t[1000000, 1903001, 1906004]\n",
      "---------------------------------------------------------------------------------------------------------\n"
     ]
    }
   ],
   "source": [
    "with open(\"test4.txt\", \"w\") as test:\n",
    "    P = \"abc\"*1000+\"c\"\n",
    "    test.write(P + \"\\n\")\n",
    "    test.write(\"abcdefghij\"*100000 + P + \"asdgdgsba\"*100000 + P + \"ba\" + P)\n",
    "\n",
    "RunTest(\"test4.txt\")"
   ]
  },
  {
   "attachments": {},
   "cell_type": "markdown",
   "metadata": {},
   "source": [
    "aby stworzyć taki test trzeba wydłurzać długość wzorca oraz umieścić wzorzc, lub znaczne jego części w tekscie, wydłurzy to operacje przyrównania napisów, trzeba to zrobić dla napisów długośći rzędu $10^3$ ponieważ w pythonie operacja s1 == s2 jest realizowana szybko i dla mniejszych długości jest porónywalna z operacją s1[i] == s2[j]"
   ]
  },
  {
   "attachments": {},
   "cell_type": "markdown",
   "metadata": {},
   "source": [
    "## Wnioski:\n",
    "najmniej urzytecznym algorytmem jest ten który wykorzystuje automat skończony, gdyż czas przygotowania automaty jest rzędu O(m^4).\n",
    "\n",
    "Algorytm naiwny radzi sobie zadziwiająco dobrz, wydaje mi się że jest to spowodowane urzysiem operacji s1 == s2 która jest zaimplementowana w C\n",
    "\n",
    "Algorytm KMP byłby najleprzym wyborem gdyby operacje s1[i] == s2[j] były proporcjonalne do  czasu wykonania s1 == s2 podzielonego przez min(|s1|, |s2|)"
   ]
  }
 ],
 "metadata": {
  "kernelspec": {
   "display_name": "Python 3",
   "language": "python",
   "name": "python3"
  },
  "language_info": {
   "file_extension": ".jl",
   "mimetype": "application/julia",
   "name": "python",
   "version": "3.10.6"
  },
  "orig_nbformat": 4
 },
 "nbformat": 4,
 "nbformat_minor": 2
}
