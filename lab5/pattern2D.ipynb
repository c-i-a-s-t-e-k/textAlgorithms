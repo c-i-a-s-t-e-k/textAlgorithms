{
 "cells": [
  {
   "attachments": {},
   "cell_type": "markdown",
   "metadata": {},
   "source": [
    "## prosty przykład"
   ]
  },
  {
   "cell_type": "code",
   "execution_count": 86,
   "metadata": {},
   "outputs": [],
   "source": [
    "words1 = [\"aaa\", \"aam\", \"kot\"]\n",
    "example1 = [\n",
    "    \"kaataak\",\n",
    "    \"oaataao\",\n",
    "    \"tamaamt\"\n",
    "]\n",
    "def create_alphabet(words):\n",
    "    alphabet = set()\n",
    "    for word in words:\n",
    "        alphabet.update(word)\n",
    "    return alphabet\n",
    "\n",
    "alphabet = create_alphabet(words1)"
   ]
  },
  {
   "cell_type": "markdown",
   "metadata": {},
   "source": [
    "## budowanie automatu"
   ]
  },
  {
   "cell_type": "code",
   "execution_count": 63,
   "metadata": {},
   "outputs": [
    {
     "data": {
      "text/plain": [
       "([node(0, {'k': 5, 't': 0, 'o': 0, 'a': 1, 'm': 0}, set()),\n",
       "  node(1, {'k': 5, 't': 0, 'o': 0, 'a': 2, 'm': 0}, set()),\n",
       "  node(2, {'k': 5, 't': 0, 'o': 0, 'a': 3, 'm': 4}, set()),\n",
       "  node(3, {'k': 5, 't': 0, 'o': 0, 'a': 3, 'm': 4}, {'aaa'}),\n",
       "  node(4, {'k': 5, 't': 0, 'o': 0, 'a': 1, 'm': 0}, {'aam'}),\n",
       "  node(5, {'k': 5, 't': 0, 'o': 6, 'a': 1, 'm': 0}, set()),\n",
       "  node(6, {'k': 5, 't': 7, 'o': 0, 'a': 1, 'm': 0}, set()),\n",
       "  node(7, {'k': 5, 't': 0, 'o': 0, 'a': 1, 'm': 0}, {'kot'})],\n",
       " {3, 4, 7})"
      ]
     },
     "execution_count": 63,
     "metadata": {},
     "output_type": "execute_result"
    }
   ],
   "source": [
    "from collections import deque\n",
    "\n",
    "class node:\n",
    "    def __init__(self, index, terminal=\"\"):\n",
    "        self.index = index\n",
    "        \n",
    "        # indeksy wierzchołków grafu połączonego z self\n",
    "        self.nodes = dict()\n",
    "\n",
    "\n",
    "        # w polu ter_str zapisane jest za jakie słowo terminalne odpowiada węzeł\n",
    "        # węzeł nie jest terminalny jeśli ter_str == \"\"\n",
    "        self.terminals = set([terminal] if terminal else [])\n",
    "    def __repr__(self):\n",
    "        return f\"node({self.index}, {self.nodes}, {self.terminals})\"\n",
    "\n",
    "\n",
    "# zwraca liste tupli (węzeł drezwa Trie, indeks ojca)\n",
    "def build_Trie(Pi, A):\n",
    "    trie = [(node(0), None)]\n",
    "    last_i = 0\n",
    "    for word in Pi:\n",
    "        walker = trie[0][0]\n",
    "        for letter in word:\n",
    "            if letter not in walker.nodes:\n",
    "                last_i += 1\n",
    "                trie.append((node(last_i), walker.index))\n",
    "                walker.nodes[letter] = last_i\n",
    "            walker = trie[walker.nodes[letter]][0]\n",
    "        walker.terminals.add(word)\n",
    "    return trie\n",
    "            \n",
    "def build_SMA(Pi, A):\n",
    "    T = set()\n",
    "    trie = build_Trie(Pi, A)\n",
    "        \n",
    "    sma = [None for _ in trie]\n",
    "    sma[0] = node(0)\n",
    "    if trie[0][0].terminals:\n",
    "        sma[0].terminals.update(trie[0][0].terminals)\n",
    "        T.add(0)\n",
    "    for letter in A:\n",
    "        sma[0].nodes[letter] = 0\n",
    "    if trie[0][0].terminals:\n",
    "        sma[0].terminals = trie[0][0].terminals\n",
    "    \n",
    "    q = deque()\n",
    "    q.append(0)\n",
    "    while q:\n",
    "        v = q.popleft()\n",
    "        for letter, x in trie[v][0].nodes.items():\n",
    "            # print(f\"x={x}\")\n",
    "            if x == 0: continue\n",
    "            t = trie[x][1]\n",
    "            # print(f\"t={t}\")\n",
    "            q.append(x)\n",
    "            if sma[x] == None:\n",
    "                sma[x] = node(x)\n",
    "            temp = sma[t].nodes[letter]\n",
    "            # print(f\"tmp={t}\")\n",
    "            sma[t].nodes[letter] = x\n",
    "            # print(f\"sma[{t}].nodes[{letter}]={x}\")\n",
    "            if trie[x][0].terminals:\n",
    "                T.add(x)\n",
    "                sma[x].terminals.update(trie[x][0].terminals)\n",
    "            if trie[temp][0].terminals:\n",
    "                T.add(x)\n",
    "                sma[x].terminals.update(trie[temp][0].terminals)\n",
    "            for char_al in A:\n",
    "                if char_al in trie[temp][0].nodes:\n",
    "                    # print(f\"\\tsma[{x}].nodes[{char_al}]={trie[temp][0].nodes[char_al]}\")\n",
    "                    sma[x].nodes[char_al] = trie[temp][0].nodes[char_al]\n",
    "                else:\n",
    "                    # print(f\"\\tsma[{x}].nodes[{char_al}]={sma[temp].nodes[char_al]}\")\n",
    "                    sma[x].nodes[char_al] = sma[temp].nodes[char_al]\n",
    "    return sma, T\n",
    "\n",
    "\n",
    "build_SMA(words1, alphabet)"
   ]
  },
  {
   "attachments": {},
   "cell_type": "markdown",
   "metadata": {},
   "source": [
    "## szukanie dwówymiarowego wzorca w macierzy znaków"
   ]
  },
  {
   "cell_type": "code",
   "execution_count": 87,
   "metadata": {},
   "outputs": [
    {
     "name": "stdout",
     "output_type": "stream",
     "text": [
      "[0, 4]\n"
     ]
    }
   ],
   "source": [
    "def prefixFunction(P):\n",
    "    res = [0]\n",
    "    k = 0\n",
    "    for j in range(1, len(P)):\n",
    "        while k > 0 and P[k] != P[j]:\n",
    "            k = res[k-1]\n",
    "        if P[k] == P[j]:\n",
    "            k += 1\n",
    "        res.append(k)\n",
    "    return res\n",
    "\n",
    "\n",
    "def _findPatternKMP(T, P, pi):\n",
    "    S = []\n",
    "    m = len(P)\n",
    "    q = 0\n",
    "    for i in range(len(T)):\n",
    "        while q > 0 and T[i] != P[q]:\n",
    "            q = pi[q-1]\n",
    "        if T[i] == P[q]:\n",
    "            q += 1 \n",
    "        if q == m:\n",
    "            q = pi[q-1]\n",
    "            S.append(i - m + 1)\n",
    "    return S\n",
    "\n",
    "# algorytm kmp\n",
    "def findPattern(T, P):\n",
    "    pi = prefixFunction(P)\n",
    "    return _findPatternKMP(T, P, pi)\n",
    "\n",
    "print(findPattern([1,2,3,4,1,2,3], [1,2,3]))\n"
   ]
  },
  {
   "cell_type": "code",
   "execution_count": 103,
   "metadata": {},
   "outputs": [
    {
     "name": "stdout",
     "output_type": "stream",
     "text": [
      "kaataak\n",
      "oaataao\n",
      "tamaamt\n",
      "[5 1 1 0 1 1 5]\n",
      "[6 2 2 0 2 2 6]\n",
      "[7 3 4 1 3 4 7]\n"
     ]
    },
    {
     "data": {
      "text/plain": [
       "[(0, 4)]"
      ]
     },
     "execution_count": 103,
     "metadata": {},
     "output_type": "execute_result"
    }
   ],
   "source": [
    "#Matrix - prostokątna tablica znaków w której szukamy wzorca, A - alfabet, Pi - lista kolum których szukamy: muszą być tej samej długości\n",
    "import numpy as np\n",
    "\n",
    "def find_pattern(Matrix, A, Pi):\n",
    "    # budowanie automatu\n",
    "    SMA, T = build_SMA(Pi, A)\n",
    "    n = len(Matrix[0])\n",
    "    m = len(Matrix)\n",
    "\n",
    "    # odnajdowanine stsnów terminalnych\n",
    "    Terminals = np.zeros((m,n), dtype=np.int64)\n",
    "    for i in range(n):\n",
    "        walker = SMA[0]\n",
    "        for j in range(m):\n",
    "            walker = SMA[walker.nodes[Matrix[j][i]]]\n",
    "            Terminals[j][i] = walker.index\n",
    "    \n",
    "    # wyznaczenie szukanego ciągu terminali - ostatni wiersz Pi_terminals\n",
    "    Pi_terminals = np.zeros((len(Pi), len(Pi[0])), dtype=np.int64)\n",
    "    for i in range(len(Pi[0])):\n",
    "        walker = SMA[0]\n",
    "        for j in range(len(Pi)):\n",
    "            walker = SMA[walker.nodes[Pi[i][j]]]\n",
    "            Pi_terminals[j][i] = walker.index\n",
    "    # szukanie rozwiązania\n",
    "    res = []\n",
    "    for i, line in enumerate(Terminals):\n",
    "        print(line)\n",
    "        for j in findPattern(line, Pi_terminals[-1]):\n",
    "            res.append((i-len(Pi[0])+1,j))\n",
    "    return res\n",
    "\n",
    "for line in example1:\n",
    "    print(line)\n",
    "find_pattern(example1, alphabet, words1)"
   ]
  }
 ],
 "metadata": {
  "kernelspec": {
   "display_name": "Python 3",
   "language": "python",
   "name": "python3"
  },
  "language_info": {
   "name": "python",
   "version": "3.10.6"
  },
  "orig_nbformat": 4
 },
 "nbformat": 4,
 "nbformat_minor": 2
}
