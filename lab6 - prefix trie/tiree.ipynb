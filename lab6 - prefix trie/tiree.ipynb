{
 "cells": [
  {
   "cell_type": "code",
   "execution_count": 11,
   "metadata": {},
   "outputs": [],
   "source": [
    "from typing import Dict\n",
    "from queue import LifoQueue"
   ]
  },
  {
   "cell_type": "code",
   "execution_count": 12,
   "metadata": {},
   "outputs": [],
   "source": [
    "from typing import Dict\n",
    "from queue import LifoQueue\n",
    "\n",
    "\n",
    "class TrieNode:\n",
    "    def __init__(self, character: str = \"\", parent_node: 'TrieNode' = None, node_depth: int = 0) -> None:\n",
    "        super().__init__()\n",
    "        self.character: str = character\n",
    "        self.children: Dict[str, TrieNode] = dict()\n",
    "        self.node_depth: int = node_depth\n",
    "        self.parent_node: TrieNode = parent_node\n",
    "        self.link_node: TrieNode = None\n",
    "\n",
    "    def add_child(self, text: str, sibling_node: 'TrieNode' = None) -> 'TrieNode':\n",
    "        node = self\n",
    "        for current_character in list(text):\n",
    "            if current_character not in node.children:\n",
    "                node.children[current_character] = TrieNode(current_character, node, node.node_depth + 1)\n",
    "            node = node.children[current_character]\n",
    "            if sibling_node:\n",
    "                sibling_node = sibling_node.children[current_character]\n",
    "                sibling_node.link_node = node\n",
    "        return node\n",
    "\n",
    "    def __contains__(self, item):\n",
    "        node = self\n",
    "        if not isinstance(item, str):\n",
    "            return False\n",
    "        while item:\n",
    "            if item[0] not in node.children.keys():\n",
    "                return False\n",
    "            node = node.children[item[0]]\n",
    "            item = item[1:]\n",
    "        return True\n",
    "\n",
    "\n",
    "class Trie:\n",
    "    def __init__(self, text: str) -> None:\n",
    "        self.root_node: TrieNode = TrieNode()\n",
    "        leaf_node = self.root_node.add_child(text)\n",
    "        self.root_node.children[text[0]].link_node = self.root_node\n",
    "        for i in range(1, len(text)):\n",
    "            head_node, sibling_node = self.up_link_down(leaf_node)\n",
    "            if not head_node:\n",
    "                sibling_node = self.root_node.children[text[i - 1]]\n",
    "                sibling_node.link_node = self.root_node\n",
    "                head_node = self.root_node\n",
    "            leaf_node = head_node.add_child(text[i + head_node.node_depth:], sibling_node)\n",
    "\n",
    "    def __contains__(self, item):\n",
    "        return isinstance(item, str) and item in self.root_node\n",
    "\n",
    "    def up_link_down(self, sibling_node: TrieNode) -> (TrieNode, TrieNode):\n",
    "        letters = LifoQueue()\n",
    "        while sibling_node and not sibling_node.link_node:\n",
    "            letters.put(sibling_node.character)\n",
    "            sibling_node = sibling_node.parent_node\n",
    "        if not sibling_node:\n",
    "            return None, None\n",
    "        node = sibling_node.link_node\n",
    "        while not letters.empty():\n",
    "            current_character = letters.get()\n",
    "            if current_character in node.children.keys():\n",
    "                node = node.children[current_character]\n",
    "                sibling_node = sibling_node.children[current_character]\n",
    "                sibling_node.link_node = node\n",
    "            else:\n",
    "                break\n",
    "        return node, sibling_node\n"
   ]
  },
  {
   "cell_type": "code",
   "execution_count": 38,
   "metadata": {},
   "outputs": [],
   "source": [
    "class SuffixTreeNode:\n",
    "\n",
    "    def __init__(self, text: str, start: int = 0, end: int = 0, depth: int = 0, parent: 'SuffixTreeNode' = None) -> None:\n",
    "        super().__init__()\n",
    "        self.depth = depth\n",
    "        self.start = start\n",
    "        self.end = end\n",
    "        self.full_text = text\n",
    "        self.children: Dict[str, SuffixTreeNode] = dict()\n",
    "        self.parent: SuffixTreeNode = parent\n",
    "        self.link: SuffixTreeNode = None\n",
    "\n",
    "    def graft(self, start) -> 'SuffixTreeNode':\n",
    "        start = start + self.depth\n",
    "        text = self.full_text[start:]\n",
    "        child = SuffixTreeNode(self.full_text, start, len(self.full_text), self.depth + len(text), self)\n",
    "        self.children[text[0]] = child\n",
    "        return child\n",
    "\n",
    "    def break_path(self, text: str) -> 'SuffixTreeNode':\n",
    "        length = len(text)\n",
    "        child = self.children[text[0]]\n",
    "        new_node = SuffixTreeNode(self.full_text, child.start, child.start + length, self.depth + length, self)\n",
    "        child.start = child.start + length\n",
    "        child.parent = new_node\n",
    "        new_node.children[child.label[0]] = child\n",
    "        self.children[text[0]] = new_node\n",
    "        return new_node\n",
    "\n",
    "    def fast_find(self, text: str) -> 'SuffixTreeNode':\n",
    "        if len(text) == 0:\n",
    "            return self\n",
    "        child = self.children[text[0]]\n",
    "        if len(child.label) < len(text):\n",
    "            return child.fast_find(text[len(child.label):])\n",
    "        elif len(child.label) == len(text):\n",
    "            return child\n",
    "        else:\n",
    "            return self.break_path(text)\n",
    "\n",
    "    def slow_find(self, text: str) -> 'SuffixTreeNode':\n",
    "        if len(text) == 0 or text[0] not in self.children.keys():\n",
    "            return self\n",
    "        child = self.children[text[0]]\n",
    "        for i in range(1, len(child.label)):\n",
    "            if child.label[i] != text[i]:\n",
    "                return self.break_path(text[:i])\n",
    "        return child.slow_find(text[len(child.label):])\n",
    "\n",
    "    @property\n",
    "    def label(self):\n",
    "        return self.full_text[self.start:self.end]\n",
    "\n",
    "    def __contains__(self, item):\n",
    "        if len(item) == 0:\n",
    "            return True\n",
    "        if not isinstance(item, str) or item[0] not in self.children:\n",
    "            return False\n",
    "        child = self.children[item[0]]\n",
    "        for i in range(1, min(len(child.label), len(item))):\n",
    "            if child.label[i] != item[i]:\n",
    "                return False\n",
    "        return len(item) < len(child.label) or item[len(child.label):] in child\n",
    "\n",
    "    def __repr__(self) -> str:\n",
    "        return f\"[{self.start}:{self.end}] {self.full_text[self.start:self.end]}\"\n",
    "\n",
    "\n",
    "class SuffixTree:\n",
    "\n",
    "    def __init__(self, text: str, slow_mode = False) -> None:\n",
    "        self.root = last_head = SuffixTreeNode(text)\n",
    "        leaf = self.root.graft(0)\n",
    "        if slow_mode:\n",
    "            for i in range(1, len(text)):\n",
    "                head = self.root.slow_find(text[i:])\n",
    "                head.graft(i)\n",
    "        else:\n",
    "            for i in range(1, len(text)):\n",
    "                if last_head == self.root:\n",
    "                    last_head = self.root.slow_find(leaf.label[1:])\n",
    "                    leaf = last_head.graft(i)\n",
    "                    continue\n",
    "                parent = last_head.parent\n",
    "                if parent == self.root:\n",
    "                    link = parent.fast_find(last_head.label[1:])\n",
    "                else:\n",
    "                    link = parent.link.fast_find(last_head.label)\n",
    "                if len(link.children) == 1:\n",
    "                    head = link\n",
    "                else:\n",
    "                    head = link.slow_find(leaf.label)\n",
    "                leaf = head.graft(i)\n",
    "                last_head.link = link\n",
    "                last_head = head\n",
    "\n",
    "    def __contains__(self, item):\n",
    "        return isinstance(item, str) and item in self.root"
   ]
  },
  {
   "cell_type": "code",
   "execution_count": 39,
   "metadata": {},
   "outputs": [],
   "source": [
    "def check_correctness(structure, text):\n",
    "    for i in range(0, len(text)):\n",
    "        for j in range(i, len(text)):\n",
    "            if text[i:] not in structure:\n",
    "                return False\n",
    "    return True"
   ]
  },
  {
   "cell_type": "code",
   "execution_count": 40,
   "metadata": {},
   "outputs": [
    {
     "name": "stdout",
     "output_type": "stream",
     "text": [
      "Trie True\n",
      "McCreight True\n",
      "Slow McCreight True\n",
      "Trie True\n",
      "McCreight True\n",
      "Slow McCreight True\n",
      "Trie True\n",
      "McCreight True\n",
      "Slow McCreight True\n",
      "Trie True\n",
      "McCreight True\n",
      "Slow McCreight True\n"
     ]
    }
   ],
   "source": [
    "text = \"bbb$\"\n",
    "print(f\"Trie {check_correctness(Trie(text), text)}\")\n",
    "print(f\"McCreight {check_correctness(SuffixTree(text), text)}\")\n",
    "print(f\"Slow McCreight {check_correctness(SuffixTree(text, True), text)}\")\n",
    "\n",
    "text = \"abbbabd\"\n",
    "print(f\"Trie {check_correctness(Trie(text), text)}\")\n",
    "print(f\"McCreight {check_correctness(SuffixTree(text), text)}\")\n",
    "print(f\"Slow McCreight {check_correctness(SuffixTree(text, True), text)}\")\n",
    "\n",
    "text = \"ababcd\"\n",
    "print(f\"Trie {check_correctness(Trie(text), text)}\")\n",
    "print(f\"McCreight {check_correctness(SuffixTree(text), text)}\")\n",
    "print(f\"Slow McCreight {check_correctness(SuffixTree(text, True), text)}\")\n",
    "\n",
    "text = \"abcbccd\"\n",
    "print(f\"Trie {check_correctness(Trie(text), text)}\")\n",
    "print(f\"McCreight {check_correctness(SuffixTree(text), text)}\")\n",
    "print(f\"Slow McCreight {check_correctness(SuffixTree(text, True), text)}\")"
   ]
  },
  {
   "cell_type": "code",
   "execution_count": 45,
   "metadata": {},
   "outputs": [],
   "source": [
    "from time import perf_counter\n",
    "def runing_time(func, args, w_print=False, name=None, count=10):\n",
    "    start = perf_counter()\n",
    "    for i in range(count):\n",
    "        func(*args)\n",
    "    end = perf_counter()\n",
    "    avg = (end-start)/count\n",
    "    if w_print:\n",
    "        print(f\"{name} average time: {avg}\")\n",
    "    else:\n",
    "        return avg"
   ]
  },
  {
   "cell_type": "code",
   "execution_count": 46,
   "metadata": {},
   "outputs": [
    {
     "name": "stdout",
     "output_type": "stream",
     "text": [
      "Trie average time: 0.00022557253999821113\n",
      "McCreight average time: 3.0449480000243057e-05\n",
      "Slow McCreight average time: 2.574407999873074e-05\n"
     ]
    }
   ],
   "source": [
    "\n",
    "text = \"bbb$\"\n",
    "runing_time(Trie, [text], True, \"Trie\",count=50)\n",
    "runing_time(SuffixTree, [text], True, \"McCreight\",count=50)\n",
    "runing_time(SuffixTree, [text, True], True, \"Slow McCreight\",count=50)"
   ]
  },
  {
   "cell_type": "code",
   "execution_count": 47,
   "metadata": {},
   "outputs": [
    {
     "name": "stdout",
     "output_type": "stream",
     "text": [
      "Trie average time: 0.0005542132400023547\n",
      "McCreight average time: 7.371772000169585e-05\n",
      "Slow McCreight average time: 4.994230000193056e-05\n"
     ]
    }
   ],
   "source": [
    "text = \"abbbabd\"\n",
    "runing_time(Trie, [text], True, \"Trie\",count=50)\n",
    "runing_time(SuffixTree, [text], True, \"McCreight\",count=50)\n",
    "runing_time(SuffixTree, [text, True], True, \"Slow McCreight\",count=50)"
   ]
  },
  {
   "cell_type": "code",
   "execution_count": 48,
   "metadata": {},
   "outputs": [
    {
     "name": "stdout",
     "output_type": "stream",
     "text": [
      "Trie average time: 0.00040603762000046117\n",
      "McCreight average time: 5.050356000083412e-05\n",
      "Slow McCreight average time: 4.170698000052653e-05\n"
     ]
    }
   ],
   "source": [
    "text = \"abcbccd\"\n",
    "runing_time(Trie, [text], True, \"Trie\",count=50)\n",
    "runing_time(SuffixTree, [text], True, \"McCreight\",count=50)\n",
    "runing_time(SuffixTree, [text, True], True, \"Slow McCreight\",count=50)\n"
   ]
  },
  {
   "cell_type": "code",
   "execution_count": 50,
   "metadata": {},
   "outputs": [
    {
     "name": "stdout",
     "output_type": "stream",
     "text": [
      "Trie average time: 21.252170428\n",
      "McCreight average time: 0.042717566999954215\n",
      "Slow McCreight average time: 0.06623011900001075\n"
     ]
    }
   ],
   "source": [
    "with open('1997_714_head.txt', 'r') as file:\n",
    "    text = file.read()\n",
    "    # text = text[:2000]\n",
    "    text += '\\0'\n",
    "    runing_time(Trie, [text], True, \"Trie\",count=1)\n",
    "    runing_time(SuffixTree, [text], True, \"McCreight\",count=1)\n",
    "    runing_time(SuffixTree, [text, True], True, \"Slow McCreight\",count=1)"
   ]
  },
  {
   "cell_type": "code",
   "execution_count": null,
   "metadata": {},
   "outputs": [],
   "source": []
  },
  {
   "cell_type": "code",
   "execution_count": null,
   "metadata": {},
   "outputs": [],
   "source": []
  },
  {
   "cell_type": "code",
   "execution_count": null,
   "metadata": {},
   "outputs": [],
   "source": []
  }
 ],
 "metadata": {
  "kernelspec": {
   "display_name": "Python 3",
   "language": "python",
   "name": "python3"
  },
  "language_info": {
   "codemirror_mode": {
    "name": "ipython",
    "version": 3
   },
   "file_extension": ".py",
   "mimetype": "text/x-python",
   "name": "python",
   "nbconvert_exporter": "python",
   "pygments_lexer": "ipython3",
   "version": "3.10.6"
  },
  "orig_nbformat": 4
 },
 "nbformat": 4,
 "nbformat_minor": 2
}
