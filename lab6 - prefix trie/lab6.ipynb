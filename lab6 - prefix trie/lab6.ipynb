{
 "cells": [
  {
   "cell_type": "markdown",
   "metadata": {},
   "source": [
    "# Dane wejściowe    "
   ]
  },
  {
   "cell_type": "code",
   "execution_count": 2,
   "metadata": {},
   "outputs": [],
   "source": [
    "data = [\n",
    "    \"bbb$\",\n",
    "    \"aabbabd$\",\n",
    "    \"ababcd$\",\n",
    "    \"abaababaabaabaabab$\",\n",
    "    \"Jest piękna pogoda na spacer po parku. Słońce świeci, ptaki śpiewają, a ludzie się uśmiechają. Wspan$\",\n",
    "]\n",
    "with open(\"lab6 - prefix trie/1997_714_head.txt\", \"r\") as file:\n",
    "    data.append(file.read() + \"$\")"
   ]
  },
  {
   "cell_type": "markdown",
   "metadata": {},
   "source": [
    "# Trie"
   ]
  },
  {
   "cell_type": "code",
   "execution_count": 9,
   "metadata": {},
   "outputs": [],
   "source": [
    "# gałęzie reprezenują tylko jedną litere\n",
    "class OneLetterTrie:\n",
    "    def __add_string(self, string: str) -> None:\n",
    "        walker = self.root\n",
    "        for letter in string:\n",
    "            if not walker.is_conected(letter):\n",
    "                walker.add_child(letter)\n",
    "            walker = walker.get_child(letter)\n",
    "\n",
    "    def __init__(self, data: str) -> None:\n",
    "        self.root = TrieNode()\n",
    "        tmp_str = data\n",
    "        while tmp_str[1:]:\n",
    "            self.__add_string(tmp_str)\n",
    "            tmp_str = tmp_str[1:]\n",
    "        self.__add_string(tmp_str)\n",
    "\n",
    "    def __contains__(self, item):\n",
    "        walker = self.root\n",
    "        for letter in item:\n",
    "            if walker.is_conected(letter):\n",
    "                walker = walker.get_child(letter)\n",
    "            else:\n",
    "                return False\n",
    "        return True\n",
    "\n",
    "\n",
    "# gałęzie mogą być reprezentowane przez więcej niż jedna litera\n",
    "class HeavyHeadTrie:\n",
    "    pass\n",
    "\n",
    "class TrieNode:\n",
    "    def __init__(self) -> None:\n",
    "        self.children = dict()\n",
    "    \n",
    "    def get_child(self, branch_str: str):\n",
    "        if self.is_conected(branch_str):\n",
    "            return self.children[branch_str]\n",
    "        else:\n",
    "            raise ValueError(f\"NOT SUCH BRANCH: {branch_str}\")\n",
    "    \n",
    "    def add_child(self, branch_str: str):\n",
    "        if self.is_conected(branch_str):\n",
    "            raise ValueError(\"SUCH CHILD ALREADY EXIST\")\n",
    "        else:\n",
    "            self.children[branch_str] = TrieNode()\n",
    "    \n",
    "    def is_conected(self, branch_str: str):\n",
    "        return branch_str in self.children"
   ]
  },
  {
   "cell_type": "code",
   "execution_count": 13,
   "metadata": {},
   "outputs": [
    {
     "name": "stdout",
     "output_type": "stream",
     "text": [
      "ababcd$\n",
      "True\n"
     ]
    }
   ],
   "source": [
    "print(data[2])\n",
    "trie = OneLetterTrie(data[2])\n",
    "\n",
    "print(\"ab\" in trie)\n"
   ]
  },
  {
   "cell_type": "code",
   "execution_count": null,
   "metadata": {},
   "outputs": [],
   "source": []
  }
 ],
 "metadata": {
  "kernelspec": {
   "display_name": "base",
   "language": "python",
   "name": "python3"
  },
  "language_info": {
   "codemirror_mode": {
    "name": "ipython",
    "version": 3
   },
   "file_extension": ".py",
   "mimetype": "text/x-python",
   "name": "python",
   "nbconvert_exporter": "python",
   "pygments_lexer": "ipython3",
   "version": "3.11.3"
  },
  "orig_nbformat": 4
 },
 "nbformat": 4,
 "nbformat_minor": 2
}
